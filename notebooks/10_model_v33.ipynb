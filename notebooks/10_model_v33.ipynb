{
 "cells": [
  {
   "cell_type": "markdown",
   "metadata": {
    "id": "0V4vZ6Qm0ViG"
   },
   "source": [
    "# 1. PARAMETERS"
   ]
  },
  {
   "cell_type": "code",
   "execution_count": 1,
   "metadata": {
    "id": "ZGLrkTFa0ViK"
   },
   "outputs": [],
   "source": [
    "####### CONFIGURATION\n",
    "\n",
    "class CFG:\n",
    "\n",
    "    # environment\n",
    "    environment = 'local'  # work environment ['kaggle', 'colab', 'local']\n",
    "    device      = 'GPU'    # device ['CPU', 'GPU', 'TPU']\n",
    "    gpu_index   = 0        # GPU device index\n",
    "    cpu_workers = 4        # no. CPU cores (data loading)\n",
    "    tpu_workers = 8        # no. TPU cores [1, 8]\n",
    "\n",
    "    # general\n",
    "    version  = 33     # notebook version (for saving outputs)\n",
    "    debug    = False  # debug mode runs 10 batches for 3 epochs\n",
    "    tracking = True   # track results using neptune.ai\n",
    "    seed     = 13353  # random state\n",
    "\n",
    "    # data\n",
    "    num_folds = 5       # number of CV folds\n",
    "    data_pl   = False   # False or percentage of appended pseudo-labeled data \n",
    "    data_ext  = False   # False or no. additional synthetic images\n",
    "    \n",
    "    # image augmentations\n",
    "    image_size   = 380               # image size after random crop\n",
    "    num_channels = 3                 # number of color channels\n",
    "    padding      = False             # pad images to squares\n",
    "    smart_crop   = False             # smart crop around the drawing\n",
    "    morphology   = True              # apply morphological transformations\n",
    "    ssr          = [0.01, 0.01, 10]  # shift, scale, rotation limits\n",
    "    p_aug        = 0.5               # prob. of augmentations except for flips\n",
    "    meta_data    = False             # include image meta-data as features\n",
    "    normalize    = False             # pixel normalization [False, 'imagenet', 'custom']\n",
    "\n",
    "    # encoder architecture\n",
    "    backbone    = 'tf_efficientnet_b7_ns'  # CNN backbone   \n",
    "    encoder_dim = 2560                   # encoder size (CNN feature vector)\n",
    "    \n",
    "    # decoder architecture\n",
    "    decoder_dim    = 512  # decoder size\n",
    "    embed_dim      = 256  # embedding size\n",
    "    attention_dim  = 256  # attention size\n",
    "    max_len        = 300  # maximum sequence length\n",
    "    dropout        = 0.5  # dropout probability\n",
    "    \n",
    "    # pretrained weights\n",
    "    pretrained = 'imagenet'  # pretrained weights [False, 'imagenet', path]\n",
    "    \n",
    "    # training\n",
    "    num_epochs    = 10     # no. epochs per fold\n",
    "    max_batches   = False  # max no. batches per training epoch (False or int)\n",
    "    batch_size    = 48     # no. images per batch\n",
    "    accum_iter    = 1      # no. batches for gradient accumalation\n",
    "    use_amp       = True   # automated mixed precision mode\n",
    "    grad_clip     = False  # max gradient norm (False or float)\n",
    "    batch_verbose = 3000   # print loss every n batches\n",
    "    save_all      = True   # save weights from each epoch\n",
    "    \n",
    "    # inference\n",
    "    valid_batch_size = 256    # no. images per batch on inference\n",
    "    valid_subset     = False  # no. images in validation subset (False or int)\n",
    "    run_submission   = True   # whether to run inference on test data\n",
    "    beam_k           = 1      # top-k for beam search (submission only)\n",
    "\n",
    "    # learning rate and optimizer\n",
    "    cnn_eta = 2e-5     # CNN starting learning rate\n",
    "    rnn_eta = 8e-5     # RNN starting learning rate\n",
    "    eta_min = 1e-8     # ending learning rate\n",
    "    optim   = 'AdamP'  # LR optimizer ['Adam', 'AdamW', 'AdamP', 'madgrad']\n",
    "    decay   = 1e-6     # weight decay of optimizer (L2 regularization)\n",
    "\n",
    "    # learning rate scheduler\n",
    "    warmup          = 0                  # no. epochs for warmup\n",
    "    schedule        = 'CosineAnnealing'  # LR scheduler after warmup\n",
    "    update_on_batch = True               # update LR after every batch (or epoch)\n",
    "\n",
    "    # loss function\n",
    "    loss_fn = 'CE'  # loss ['CE']"
   ]
  },
  {
   "cell_type": "code",
   "execution_count": 2,
   "metadata": {
    "id": "ONx3m0TJ2PJ1"
   },
   "outputs": [],
   "source": [
    "####### CONVERT CONFIGURATION\n",
    "\n",
    "CFG = dict(vars(CFG))\n",
    "for key in ['__dict__', '__doc__', '__module__', '__weakref__']:\n",
    "    del CFG[key]"
   ]
  },
  {
   "cell_type": "code",
   "execution_count": 3,
   "metadata": {
    "id": "8a2ClHIAthIY"
   },
   "outputs": [],
   "source": [
    "####### UPDATES FOR DEBUG MODE\n",
    "\n",
    "if CFG['debug']:\n",
    "    CFG['tracking']   = False\n",
    "    CFG['save_all']   = False\n",
    "    CFG['num_epochs'] = 3"
   ]
  },
  {
   "cell_type": "markdown",
   "metadata": {
    "id": "-9ZKt08y0ViT"
   },
   "source": [
    "# 2. PREPARATIONS"
   ]
  },
  {
   "cell_type": "markdown",
   "metadata": {
    "id": "M6a7qQsU7oZe"
   },
   "source": [
    "## PACKAGES"
   ]
  },
  {
   "cell_type": "code",
   "execution_count": 4,
   "metadata": {
    "id": "HIjTLhkSBRbe"
   },
   "outputs": [],
   "source": [
    "####### PACKAGES FOR TPU\n",
    "\n",
    "if CFG['device'] == 'TPU':\n",
    "        \n",
    "    # install XLA\n",
    "    xla_version = 'nightly' # (1.7, 'nightly')\n",
    "    !curl https://raw.githubusercontent.com/pytorch/xla/master/contrib/scripts/env-setup.py -o pytorch-xla-env-setup.py\n",
    "    !python pytorch-xla-env-setup.py --version $xla_version\n",
    "\n",
    "    # settings\n",
    "    import os\n",
    "    if CFG['environment'] == 'colab':\n",
    "        assert os.environ['COLAB_TPU_ADDR']\n",
    "    os.environ['XLA_USE_BF_16'] = '1'\n",
    "    os.environ['XLA_TENSOR_ALLOCATOR_MAXSIZE'] = '100000000'\n",
    "\n",
    "    # imports\n",
    "    import torch_xla\n",
    "    import torch_xla.core.xla_model as xm\n",
    "    import torch_xla.distributed.xla_multiprocessing as xmp\n",
    "    import torch_xla.distributed.parallel_loader as pl"
   ]
  },
  {
   "source": [
    "####### PACKAGES\n",
    "\n",
    "import numpy as np\n",
    "import pandas as pd\n",
    "import scipy as sp\n",
    "\n",
    "from sklearn import preprocessing, metrics\n",
    "from sklearn.metrics import confusion_matrix, roc_auc_score\n",
    "from sklearn.model_selection import StratifiedKFold, GroupKFold, KFold\n",
    "from scipy.special import softmax\n",
    "\n",
    "from functools import partial\n",
    "\n",
    "import torch\n",
    "import torch.nn as nn\n",
    "import torch.nn.functional as F\n",
    "import torch.optim as optim\n",
    "from torch.nn.parameter import Parameter\n",
    "from torch.utils.data import Dataset, DataLoader\n",
    "from torch.utils.data.sampler import RandomSampler, SequentialSampler, WeightedRandomSampler\n",
    "from torch.utils.data.distributed import DistributedSampler\n",
    "from torch.nn.utils.rnn import pad_sequence, pack_padded_sequence\n",
    "from torch.nn.utils import clip_grad_norm_\n",
    "from torch.optim import lr_scheduler\n",
    "from torch.optim.lr_scheduler import CosineAnnealingWarmRestarts, ReduceLROnPlateau\n",
    "from torch.autograd import Function\n",
    "\n",
    "if CFG['environment'] == 'kaggle':\n",
    "    import sys\n",
    "    sys.path.append('../input/timm-pytorch-image-models/pytorch-image-models-master')\n",
    "else:\n",
    "    !pip install git+'https://github.com/rwightman/pytorch-image-models.git'\n",
    "import timm\n",
    "from timm.utils import *\n",
    "\n",
    "import os\n",
    "import gc\n",
    "import re\n",
    "import math\n",
    "import time\n",
    "import random\n",
    "import shutil\n",
    "import sys\n",
    "from pathlib import Path\n",
    "from contextlib import contextmanager, suppress\n",
    "from collections import defaultdict, Counter\n",
    "\n",
    "if CFG['environment'] == 'colab':\n",
    "    !pip3 install pickle5\n",
    "    import pickle5 as pickle\n",
    "else:\n",
    "    import pickle\n",
    "\n",
    "!pip install --upgrade -U albumentations\n",
    "import albumentations as A\n",
    "from albumentations.pytorch import ToTensorV2\n",
    "\n",
    "!pip install git+'https://github.com/ildoonet/pytorch-gradual-warmup-lr.git'\n",
    "from warmup_scheduler import GradualWarmupScheduler  \n",
    "\n",
    "!pip install adamp\n",
    "from adamp import AdamP\n",
    "\n",
    "!pip install madgrad\n",
    "from madgrad import MADGRAD\n",
    "\n",
    "!pip install Levenshtein\n",
    "import Levenshtein\n",
    "\n",
    "import cv2\n",
    "\n",
    "from tqdm import tqdm\n",
    "\n",
    "import gc\n",
    "gc.enable()\n",
    "\n",
    "import matplotlib.pyplot as plt\n",
    "import seaborn as sns\n",
    "%matplotlib inline\n",
    "\n",
    "import warnings"
   ],
   "cell_type": "code",
   "metadata": {
    "colab": {
     "base_uri": "https://localhost:8080/"
    },
    "id": "S6rE_WKH0ViV",
    "outputId": "cbb5b126-f7d4-4f65-b2ec-9021d3596ee9",
    "tags": []
   },
   "execution_count": null,
   "outputs": []
  },
  {
   "cell_type": "code",
   "execution_count": null,
   "metadata": {},
   "outputs": [],
   "source": [
    "####### MODULES\n",
    "\n",
    "sys.path.append('../codes')  \n",
    "\n",
    "# utilities\n",
    "from utilities import get_score, randomly, smart_print, smart_save, seed_everything, worker_init_fn\n",
    "\n",
    "# data processing\n",
    "fron preprocessing import smart_crop, pad_image\n",
    "from data import get_data, get_loaders, ImageData, ImageTestData, bms_collate\n",
    "from augmentations import get_augs\n",
    "\n",
    "# tokenizer\n",
    "from tokenizer import Tokenizer\n",
    "\n",
    "# model\n",
    "from model import _inflate, Encoder, Attention, DecoderWithAttention, TopKDecoder, get_model\n",
    "from optimizers import get_optimizer, get_scheduler\n",
    "from losses import get_losses\n",
    "\n",
    "# training and inference\n",
    "from training import train_epoch\n",
    "from validation import valid_epoch, valid_epoch_with_beam_search\n",
    "from run_fold import run_fold, run_on_tpu\n",
    "from plot_results import plot_results\n",
    "    \n",
    "seed_everything(CFG['seed'], CFG)"
   ]
  },
  {
   "cell_type": "markdown",
   "metadata": {
    "id": "TVCagXgS7sKd"
   },
   "source": [
    "## ENVIRONMENT"
   ]
  },
  {
   "cell_type": "code",
   "execution_count": 7,
   "metadata": {
    "id": "D87PvnsfStnU"
   },
   "outputs": [],
   "source": [
    "####### COLAB DATA DOWNLOAD\n",
    "\n",
    "if (CFG['environment'] == 'colab') and (not os.path.exists('/content/input/')):\n",
    "\n",
    "    # mount drive\n",
    "    from google.colab import drive\n",
    "    drive.mount('/content/drive')  \n",
    "\n",
    "    # set up Kaggle API\n",
    "    !pip install --upgrade --force-reinstall --no-deps -q kaggle\n",
    "    !mkdir -p ~/.kaggle\n",
    "    !cp '/content/drive/MyDrive/Competitions/kaggle.json' ~/.kaggle/\n",
    "    !ls ~/.kaggle\n",
    "\n",
    "    # download data\n",
    "    !mkdir '/content/input/'\n",
    "    !kaggle competitions download -c bms-molecular-translation\n",
    "    !unzip -q '/content/bms-molecular-translation.zip' 'train/**/*' -d '/content/input/'\n",
    "    !rm -rf '/content/bms-molecular-translation.zip'\n",
    "\n",
    "    # copy more data\n",
    "    !cp '/content/drive/MyDrive/Competitions/bristol/input/train4.pkl' '/content/input/'\n",
    "    !cp '/content/drive/MyDrive/Competitions/bristol/input/tokenizer4.pth' '/content/input/'"
   ]
  },
  {
   "cell_type": "code",
   "execution_count": 8,
   "metadata": {
    "id": "2_X93RyNgsJI"
   },
   "outputs": [],
   "source": [
    "####### WORKING PATHS\n",
    "\n",
    "# kaggle\n",
    "if CFG['environment'] == 'kaggle':\n",
    "    CFG['data_path']  = '/kaggle/input/bms-molecular-translation/'\n",
    "    CFG['out_path']   = ''\n",
    "\n",
    "# colab\n",
    "if CFG['environment'] == 'colab':\n",
    "    CFG['data_path']  = '/content/input/'\n",
    "    CFG['out_path']   = '/content/drive/MyDrive/Competitions/bristol/output/v' + str(CFG['version']) + '/'\n",
    "    if not os.path.exists(CFG['out_path']):\n",
    "        os.mkdir(CFG['out_path'])\n",
    "\n",
    "# local\n",
    "if CFG['environment'] == 'local':\n",
    "    CFG['data_path']  = '../input/'\n",
    "    CFG['out_path']   = '../output/v' + str(CFG['version']) + '/'\n",
    "    if not os.path.exists(CFG['out_path']):\n",
    "        os.mkdir(CFG['out_path'])"
   ]
  },
  {
   "source": [
    "####### TRACKING WITH NEPTUNE\n",
    "\n",
    "if CFG['tracking']:\n",
    "    \n",
    "    # install neptune\n",
    "    !pip install --upgrade neptune-client\n",
    "    import neptune \n",
    "\n",
    "    # create exoeriment\n",
    "    neptune.init(api_token = 'YOUR-NEPTUNE-TOKEN',\n",
    "                 project_qualified_name = 'YOUR-NEPTUNE-PROJECT')\n",
    "    neptune.create_experiment(name = 'v' + str(CFG['version']), params = CFG) "
   ],
   "cell_type": "code",
   "metadata": {
    "colab": {
     "base_uri": "https://localhost:8080/"
    },
    "id": "WNePNOxvCCkS",
    "outputId": "a423aa41-e716-42d6-d8b2-80b7f670bf05",
    "tags": []
   },
   "execution_count": null,
   "outputs": []
  },
  {
   "cell_type": "code",
   "execution_count": 10,
   "metadata": {
    "colab": {
     "base_uri": "https://localhost:8080/"
    },
    "id": "jwoqOvA10Vim",
    "outputId": "525fb914-73eb-40ad-a17f-72e0ce104a3b"
   },
   "outputs": [
    {
     "name": "stdout",
     "output_type": "stream",
     "text": [
      "Training on GPU 0...\n"
     ]
    }
   ],
   "source": [
    "####### TRAINING DEVICE\n",
    "\n",
    "if CFG['device'] == 'TPU':\n",
    "    print('Training on TPU...')\n",
    "    device      = torch.device('cpu')\n",
    "    serial_exec = xmp.MpSerialExecutor()\n",
    "    \n",
    "if CFG['device'] == 'GPU':\n",
    "    print('Training on GPU {}...'.format(CFG['gpu_index']))\n",
    "    device = torch.device('cuda:{}'.format(CFG['gpu_index']))\n",
    "\n",
    "if CFG['device'] == 'CPU':\n",
    "    print('Training on CPU...')\n",
    "    device = torch.device('cpu') "
   ]
  },
  {
   "cell_type": "code",
   "execution_count": 11,
   "metadata": {
    "colab": {
     "base_uri": "https://localhost:8080/"
    },
    "id": "UPuaITycSayz",
    "outputId": "335ab793-890a-465a-c744-713475733c85"
   },
   "outputs": [
    {
     "name": "stdout",
     "output_type": "stream",
     "text": [
      "- setting random seed to 13353...\n"
     ]
    }
   ],
   "source": [
    "####### ENVIRONMENT SETTINGS\n",
    "\n",
    "pd.options.display.max_columns = 100    # maximum displayed columns\n",
    "warnings.filterwarnings('ignore')       # ignoring warnings\n",
    "torch.backends.cudnn.benchmark = False  # set to True if NN inputs are the same size\n",
    "seed_everything(CFG['seed'], CFG)       # random seed"
   ]
  },
  {
   "cell_type": "markdown",
   "metadata": {
    "id": "T2OuAGJw0Viv"
   },
   "source": [
    "# 3. DATA PREP"
   ]
  },
  {
   "cell_type": "code",
   "execution_count": 12,
   "metadata": {
    "colab": {
     "base_uri": "https://localhost:8080/"
    },
    "id": "M_wA4oFuSay1",
    "outputId": "fea40af3-f37a-4eb7-b822-fe7d83c93eee",
    "papermill": {
     "duration": 13.217913,
     "end_time": "2021-03-12T23:46:38.297734",
     "exception": false,
     "start_time": "2021-03-12T23:46:25.079821",
     "status": "completed"
    },
    "tags": []
   },
   "outputs": [
    {
     "data": {
      "text/plain": [
       "0    484838\n",
       "1    484837\n",
       "2    484837\n",
       "3    484837\n",
       "4    484837\n",
       "Name: fold, dtype: int64"
      ]
     },
     "metadata": {},
     "output_type": "display_data"
    }
   ],
   "source": [
    "####### DATA PROCESSING \n",
    "\n",
    "# import\n",
    "if CFG['environment'] != 'kaggle':\n",
    "    df = pd.read_pickle(CFG['data_path'] + 'train4.pkl')\n",
    "else:\n",
    "    df = pd.read_pickle('../input/inchi-preprocess-2/train.pkl')\n",
    "\n",
    "# update paths\n",
    "def get_train_file_path(image_id):\n",
    "    return CFG['data_path'] + 'train/{}/{}/{}/{}.png'.format(image_id[0], image_id[1], image_id[2], image_id )\n",
    "df['file_path'] = df['image_id'].apply(get_train_file_path)\n",
    "\n",
    "# partitioning\n",
    "skf = StratifiedKFold(n_splits = CFG['num_folds'], shuffle = True, random_state = CFG['seed'])\n",
    "for fold, (trn_idx, val_idx) in enumerate(skf.split(df, df['InChI_length'])):\n",
    "    df.loc[val_idx, 'fold'] = fold\n",
    "df['fold'] = df['fold'].astype(int)\n",
    "display(df['fold'].value_counts())"
   ]
  },
  {
   "cell_type": "code",
   "execution_count": 13,
   "metadata": {
    "colab": {
     "base_uri": "https://localhost:8080/"
    },
    "id": "M_wA4oFuSay1",
    "outputId": "fea40af3-f37a-4eb7-b822-fe7d83c93eee",
    "papermill": {
     "duration": 13.217913,
     "end_time": "2021-03-12T23:46:38.297734",
     "exception": false,
     "start_time": "2021-03-12T23:46:25.079821",
     "status": "completed"
    },
    "tags": []
   },
   "outputs": [],
   "source": [
    "####### EXTERNAL DATA PROCESSING\n",
    "\n",
    "if CFG['data_ext']:\n",
    "    df_extra = pd.read_csv(CFG['data_path'] + 'extra.csv')\n",
    "    df_extra['file_path'] = ['../input/' + f for f in list(df_extra['file_path'].values)]\n",
    "    df_extra['fold'] = -1\n",
    "    df_extra = df_extra.loc[df_extra['InChI_length'] <= 300].reset_index(drop = True)    \n",
    "    display(df_extra.tail())"
   ]
  },
  {
   "cell_type": "code",
   "execution_count": 18,
   "metadata": {
    "id": "o6CenVoPSazC",
    "papermill": {
     "duration": 0.092009,
     "end_time": "2021-03-12T23:46:38.423857",
     "exception": false,
     "start_time": "2021-03-12T23:46:38.331848",
     "status": "completed"
    },
    "tags": []
   },
   "outputs": [],
   "source": [
    "####### TOKENIZER\n",
    "\n",
    "if CFG['environment'] != 'kaggle':\n",
    "    tokenizer = torch.load(CFG['data_path'] + 'tokenizer4.pth')\n",
    "else:\n",
    "    tokenizer = torch.load('../input/inchi-preprocess-2/tokenizer4.pth')"
   ]
  },
  {
   "cell_type": "code",
   "execution_count": 20,
   "metadata": {
    "colab": {
     "base_uri": "https://localhost:8080/",
     "height": 561
    },
    "id": "RKboY5BsSazD",
    "outputId": "214a33a8-dc62-4897-d808-b6d7bc5a2f90"
   },
   "outputs": [
    {
     "name": "stdout",
     "output_type": "stream",
     "text": [
      "- batch shape:  torch.Size([5, 3, 380, 380]) vs torch.Size([5, 3, 380, 380])\n",
      "- loading time: 4.9668 vs 0.4904 seconds\n",
      "- pixel values: 0.00 - 0.97 - 1.00 vs 0.00 - 0.97 - 1.00\n"
     ]
    },
    {
     "data": {
      "text/plain": [
       "0"
      ]
     },
     "execution_count": 20,
     "metadata": {},
     "output_type": "execute_result"
    },
    {
     "data": {
      "image/png": "[encoded data removed]",
      "text/plain": [
       "<Figure size 1440x576 with 10 Axes>"
      ]
     },
     "metadata": {},
     "output_type": "display_data"
    }
   ],
   "source": [
    "####### EXAMINE SAMPLE BATCH\n",
    "\n",
    "# sample size\n",
    "sample = 5\n",
    "\n",
    "# augmentations\n",
    "train_augs, valid_augs = get_augs(CFG, image_size = CFG['image_size'])\n",
    "\n",
    "# datasets\n",
    "train_dataset = ImageData(df         = df.head(sample), \n",
    "                          tokenizer  = tokenizer,\n",
    "                          channels   = CFG['num_channels'],\n",
    "                          crop       = CFG['smart_crop'],\n",
    "                          morphology = CFG['morphology'],\n",
    "                          padding    = CFG['padding'],\n",
    "                          meta       = CFG['meta_data'],\n",
    "                          transform  = train_augs)\n",
    "valid_dataset = ImageTestData(df         = df.head(sample), \n",
    "                              channels   = CFG['num_channels'],\n",
    "                              crop       = CFG['smart_crop'],\n",
    "                              morphology = CFG['morphology'],\n",
    "                              padding    = CFG['padding'],\n",
    "                              meta       = CFG['meta_data'],\n",
    "                              transform  = valid_augs)\n",
    "\n",
    "# data loaders\n",
    "train_loader = DataLoader(dataset     = train_dataset, \n",
    "                          batch_size  = sample, \n",
    "                          shuffle       = False, \n",
    "                          num_workers = CFG['cpu_workers'],\n",
    "                          drop_last   = True, \n",
    "                          collate_fn  = bms_collate)\n",
    "valid_loader = DataLoader(dataset     = valid_dataset, \n",
    "                          batch_size  = sample, \n",
    "                          shuffle       = False, \n",
    "                          num_workers = CFG['cpu_workers'],\n",
    "                          drop_last   = False)\n",
    "\n",
    "# display train images\n",
    "batch_time = time.time()\n",
    "for batch_idx, (inputs, labels, lengths) in enumerate(train_loader):\n",
    "    \n",
    "    # extract inputs and labels\n",
    "    inputs  = inputs.to(device)\n",
    "    labels  = labels.to(device)\n",
    "    lengths = lengths.to(device)\n",
    "    \n",
    "    # feedback\n",
    "    inputs_shape = inputs.shape\n",
    "    load_time    = time.time() - batch_time\n",
    "    pixel_values = [torch.min(inputs).item(), torch.mean(inputs).item(), torch.max(inputs).item()]\n",
    "\n",
    "    # examples\n",
    "    fig = plt.figure(figsize = (20, 8))\n",
    "    for i in range(sample):\n",
    "        ax = fig.add_subplot(2, sample, i + 1, xticks = [], yticks = [])     \n",
    "        plt.imshow(inputs[i].cpu().numpy()[0, :, :], cmap = 'gray')\n",
    "        ax.set_title('{} (train)'.format(labels[i].cpu().numpy()[0:3]), color = 'red')\n",
    "    break\n",
    "\n",
    "# display valid images\n",
    "batch_time = time.time()\n",
    "for batch_idx, inputs in enumerate(valid_loader):\n",
    "                    \n",
    "    # feedback\n",
    "    print('- batch shape:  {} vs {}'.format(inputs_shape, inputs.shape))\n",
    "    print('- loading time: {:.4f} vs {:.4f} seconds'.format(load_time, (time.time() - batch_time)))\n",
    "    print('- pixel values: {:.2f} - {:.2f} - {:.2f} vs {:.2f} - {:.2f} - {:.2f}'.format(\n",
    "            pixel_values[0], pixel_values[1], pixel_values[2],\n",
    "            torch.min(inputs).item(), torch.mean(inputs).item(), torch.max(inputs).item()))\n",
    "\n",
    "    # examples\n",
    "    for i in range(sample):\n",
    "        ax = fig.add_subplot(2, sample, sample + i + 1, xticks = [], yticks = [])     \n",
    "        plt.imshow(inputs[i].cpu().numpy()[0, :, :], cmap = 'gray')\n",
    "        ax.set_title('(valid)', color = 'green')\n",
    "    plt.savefig(CFG['out_path'] + 'fig_sample.png')\n",
    "    break\n",
    "    \n",
    "# clean up\n",
    "del inputs, labels, lengths, batch_idx, train_loader, valid_loader, train_dataset, valid_dataset\n",
    "del train_augs, valid_augs, pixel_values, inputs_shape\n",
    "gc.collect()"
   ]
  },
  {
   "cell_type": "markdown",
   "metadata": {
    "id": "NtAEmeT80VjI"
   },
   "source": [
    "# 4. CROSS-VALIDATION"
   ]
  },
  {
   "source": [
    "####### CROSS-VALIDATION LOOP\n",
    "\n",
    "# timer\n",
    "cv_start = time.time()\n",
    "\n",
    "# clear memory\n",
    "gc.collect()\n",
    "\n",
    "# amp settings\n",
    "amp_autocast = suppress\n",
    "if CFG['use_amp']:\n",
    "    amp_autocast = torch.cuda.amp.autocast\n",
    "    scaler       = torch.cuda.amp.GradScaler()\n",
    "\n",
    "# placeholders\n",
    "oof = None\n",
    "\n",
    "# cross-validation\n",
    "for fold in range(1):\n",
    "        \n",
    "    # feedback\n",
    "    print('-' * 55)\n",
    "    print('FOLD {:d}/{:d}'.format(fold + 1, CFG['num_folds']))    \n",
    "    print('-' * 55) \n",
    "    \n",
    "    # prepare model\n",
    "    encoder, decoder = get_model(CFG, device)\n",
    "    \n",
    "    # prepare data\n",
    "    df_trn, df_val = get_data(df, fold, CFG)  \n",
    "    \n",
    "    # training and inference\n",
    "    if CFG['device'] != 'TPU':\n",
    "        trn_losses, val_scores, val_preds_best = run_fold(fold, df_trn, df_val, CFG, encoder, decoder, device)\n",
    "    else:\n",
    "        xmp.spawn(run_on_tpu, args = (CFG, ), nprocs = CFG['tpu_workers'], start_method = 'fork')\n",
    "        trn_losses     = np.load('trn_losses.npy')\n",
    "        val_scores     = np.load('val_scores.npy')\n",
    "        val_preds_best = np.load('val_preds_best.npy')\n",
    "            \n",
    "    # export OOF preds\n",
    "    val_preds_df = pd.DataFrame(val_preds_best, columns = ['pred'])\n",
    "    val_preds_df = pd.concat([df_val, val_preds_df], axis = 1)\n",
    "    oof          = pd.concat([oof,    val_preds_df], axis = 0).reset_index(drop = True)\n",
    "    oof.to_csv(CFG['out_path'] + 'oof.csv', index = False)\n",
    "    \n",
    "    # feedback\n",
    "    print('-' * 55)\n",
    "    print('Best: score = {:.4f} (epoch {})'.format(\n",
    "        np.min(val_scores), np.argmin(val_scores) + 1))\n",
    "    print('-' * 55)\n",
    "\n",
    "    # plot loss dynamics\n",
    "    plot_results(trn_losses, val_scores, fold, CFG)\n",
    "    \n",
    "    # send weights to neptune\n",
    "    if CFG['tracking']:\n",
    "        neptune.send_artifact(CFG['out_path'] + 'weights_fold{}.pth'.format(fold))\n",
    "\n",
    "# feedback\n",
    "print('')\n",
    "print('Finished in {:.2f} minutes'.format((time.time() - cv_start) / 60))"
   ],
   "cell_type": "code",
   "metadata": {
    "colab": {
     "base_uri": "https://localhost:8080/"
    },
    "id": "VIOZZY6cfxBx",
    "outputId": "cc6971e8-acc8-4be0-e3e1-f2a858a6fe7f"
   },
   "execution_count": null,
   "outputs": []
  },
  {
   "cell_type": "code",
   "execution_count": null,
   "metadata": {
    "id": "cJQFNQsc0VjL"
   },
   "outputs": [],
   "source": [
    "####### CHECK OOF PERFORMANCE\n",
    "\n",
    "# compute score\n",
    "oof_score = get_score(oof['InChI'], oof['pred'])\n",
    "\n",
    "# print performance\n",
    "print('-' * 30)\n",
    "print('OOF score = {:.4f}'.format(oof_score))\n",
    "print('-' * 30)\n",
    "\n",
    "# inspect predictions\n",
    "for i in range(5): \n",
    "    print(oof['pred'][i])\n",
    "    print('-' * 30)"
   ]
  },
  {
   "cell_type": "code",
   "execution_count": null,
   "metadata": {
    "id": "2g1eeDFgleGB"
   },
   "outputs": [],
   "source": [
    "####### EXPORT CONFIGURATION\n",
    "\n",
    "# store performance values\n",
    "CFG['time_hours'] = (time.time() - cv_start) / 3600\n",
    "CFG['oof_score']  = oof_score\n",
    "\n",
    "# save dictionary\n",
    "pickle.dump(CFG, open(CFG['out_path'] + 'configuration.pkl', 'wb'))\n",
    "\n",
    "# send to Neptune\n",
    "if CFG['tracking']:\n",
    "    neptune.send_metric('oof_score', oof_score)\n",
    "    neptune.send_artifact(CFG['out_path'] + 'oof.csv')           \n",
    "    neptune.send_artifact(CFG['out_path'] + 'configuration.pkl')"
   ]
  },
  {
   "cell_type": "markdown",
   "metadata": {
    "id": "e5bUh1-_0VjL",
    "tags": []
   },
   "source": [
    "# 5. SUBMISSION"
   ]
  },
  {
   "cell_type": "code",
   "execution_count": null,
   "metadata": {
    "id": "YiVTVu2WSazW"
   },
   "outputs": [],
   "source": [
    "###### DATA PROCESSING\n",
    "\n",
    "if CFG['run_submission']:\n",
    "\n",
    "    # import\n",
    "    sub = pd.read_csv(CFG['data_path'] + 'sample_submission.csv')\n",
    "    if CFG['debug']:\n",
    "        sub = sub.head(512 * 8)\n",
    "\n",
    "    # update paths\n",
    "    def get_test_file_path(image_id):\n",
    "        return CFG['data_path'] + 'test/{}/{}/{}/{}.png'.format(image_id[0], image_id[1], image_id[2], image_id)\n",
    "    sub['file_path'] = sub['image_id'].apply(get_test_file_path)\n",
    "\n",
    "    # display\n",
    "    print(f'test.shape: {sub.shape}')\n",
    "    display(sub.head())"
   ]
  },
  {
   "cell_type": "code",
   "execution_count": null,
   "metadata": {
    "id": "zNp58i92SazX"
   },
   "outputs": [],
   "source": [
    "###### INFERENCE\n",
    "\n",
    "if CFG['run_submission']:\n",
    "\n",
    "    # prepare data loader\n",
    "    _, test_augs = get_augs(CFG)\n",
    "    test_dataset = ImageTestData(df         = sub, \n",
    "                                 transform  = valid_augs,\n",
    "                                 channels   = CFG['num_channels'],\n",
    "                                 crop       = CFG['smart_crop'],\n",
    "                                 morphology = CFG['morphology'],\n",
    "                                 padding    = CFG['padding'],\n",
    "                                 meta       = CFG['meta_data'])\n",
    "    test_loader  = DataLoader(dataset     = test_dataset, \n",
    "                              batch_size  = CFG['valid_batch_size'], \n",
    "                              shuffle     = False,\n",
    "                              num_workers = CFG['cpu_workers'],\n",
    "                              drop_last   = False,\n",
    "                              pin_memory  = False)\n",
    "\n",
    "    # load best model\n",
    "    encoder, decoder = get_model(CFG, device, pretrained = CFG['out_path'] + 'weights_fold0.pth')\n",
    "    encoder.to(device)\n",
    "    decoder.to(device)\n",
    "\n",
    "    # inference\n",
    "    if CFG['beam_k'] == 1:\n",
    "        test_preds = valid_epoch(test_loader, encoder, decoder, tokenizer, CFG, device)\n",
    "    elif CFG['beam_k'] > 1:\n",
    "        test_preds = valid_epoch_with_beam_search(test_loader, encoder, decoder, tokenizer, CFG, device)"
   ]
  },
  {
   "cell_type": "code",
   "execution_count": null,
   "metadata": {
    "id": "l470Cmn2SazY"
   },
   "outputs": [],
   "source": [
    "####### EXPORT SUBMISSION\n",
    "\n",
    "# export submission\n",
    "if CFG['run_submission']:\n",
    "\n",
    "    # save submission\n",
    "    sub['InChI'] = ['InChI=1S/{}'.format(p) for p in test_preds]\n",
    "    sub[['image_id', 'InChI']].to_csv(CFG['out_path'] + 'submission.csv', index = False)\n",
    "    display(sub[['image_id', 'InChI']].head())\n",
    "    \n",
    "    # send to Neptune\n",
    "    if CFG['tracking']:\n",
    "        neptune.send_artifact(CFG['out_path'] + 'submission.csv') "
   ]
  },
  {
   "cell_type": "code",
   "execution_count": null,
   "metadata": {
    "id": "j4y9fLS2SazZ"
   },
   "outputs": [],
   "source": [
    "####### CLEAN UP\n",
    "\n",
    "# stop experiment\n",
    "if CFG['tracking']: \n",
    "    neptune.stop()\n",
    "    \n",
    "# clear memory\n",
    "del encoder, decoder\n",
    "gc.collect()"
   ]
  }
 ],
 "metadata": {
  "accelerator": "GPU",
  "colab": {
   "collapsed_sections": [],
   "name": "training_v21.ipynb",
   "provenance": [],
   "toc_visible": true
  },
  "kernelspec": {
   "display_name": "Python 3",
   "language": "python",
   "name": "python3"
  },
  "language_info": {
   "codemirror_mode": {
    "name": "ipython",
    "version": 3
   },
   "file_extension": ".py",
   "mimetype": "text/x-python",
   "name": "python",
   "nbconvert_exporter": "python",
   "pygments_lexer": "ipython3",
   "version": "3.8.8"
  },
  "neptune": {
   "notebookId": "83aec7da-b563-4f21-b7c2-a086a97d489b",
   "projectVersion": 2
  },
  "papermill": {
   "default_parameters": {},
   "duration": 27660.340489,
   "end_time": "2021-03-13T07:27:19.479867",
   "environment_variables": {},
   "exception": null,
   "input_path": "__notebook__.ipynb",
   "output_path": "__notebook__.ipynb",
   "parameters": {},
   "start_time": "2021-03-12T23:46:19.139378",
   "version": "2.2.2"
  },
  "toc-autonumbering": false,
  "toc-showtags": false
 },
 "nbformat": 4,
 "nbformat_minor": 4
}