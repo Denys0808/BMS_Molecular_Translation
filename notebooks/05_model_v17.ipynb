{
 "cells": [
  {
   "cell_type": "markdown",
   "metadata": {
    "id": "0V4vZ6Qm0ViG"
   },
   "source": [
    "# 1. PARAMETERS"
   ]
  },
  {
   "cell_type": "code",
   "execution_count": 1,
   "metadata": {
    "id": "ZGLrkTFa0ViK"
   },
   "outputs": [],
   "source": [
    "####### CONFIGURATION\n",
    "\n",
    "class CFG:\n",
    "\n",
    "    # environment\n",
    "    environment = 'local'  # work environment ['kaggle', 'local']\n",
    "    device      = 'GPU'    # device ['CPU', 'GPU', 'TPU']\n",
    "    gpu_index   = 1        # GPU device index\n",
    "    cpu_workers = 4        # no. CPU cores (data loading)\n",
    "    tpu_workers = 8        # no. TPU cores [1, 8]\n",
    "\n",
    "    # general\n",
    "    version  = 17     # notebook version (for saving outputs)\n",
    "    debug    = False  # debug mode runs 10 batches for 3 epochs\n",
    "    tracking = True   # track results using neptune.ai\n",
    "    seed     = 13353  # random state\n",
    "\n",
    "    # data\n",
    "    num_folds = 5      # number of CV folds\n",
    "    data_pl   = False  # False or percentage of appended pseudo-labeled data \n",
    "    \n",
    "    # image augmentations\n",
    "    image_size   = 260               # image size after random crop\n",
    "    num_channels = 3                 # number of color channels\n",
    "    smart_crop   = False             # smart crop around the drawing\n",
    "    morphology   = True              # apply morphological transformations\n",
    "    ssr          = [0.01, 0.01, 10]  # shift, scale, rotation limits\n",
    "    p_aug        = 0.5               # prob. of augmentations except for flips\n",
    "    meta_data    = False             # include image meta-data as features\n",
    "    normalize    = False             # pixel normalization [False, 'imagenet', 'custom']\n",
    "\n",
    "    # encoder architecture\n",
    "    backbone       = 'tf_efficientnet_b5_ns'  # CNN backbone   \n",
    "    encoder_dim    = 2048                   # encoder size (CNN feature vector)\n",
    "    \n",
    "    # decoder architecture\n",
    "    decoder_dim    = 512  # decoder size \n",
    "    embed_dim      = 256  # embedding size\n",
    "    attention_dim  = 256  # attention size\n",
    "    max_len        = 275  # maximum sequence length\n",
    "    dropout        = 0.5  # dropout probability\n",
    "    \n",
    "    # pretrained weights\n",
    "    pretrained = 'imagenet'  # pretrained weights [False, 'imagenet', path]\n",
    "    \n",
    "    # training\n",
    "    num_epochs    = 10     # no. epochs per fold\n",
    "    max_batches   = False  # max no. batches per training epoch (False or int)\n",
    "    batch_size    = 64     # no. images per batch\n",
    "    accum_iter    = 1      # no. batches for gradient accumalation\n",
    "    use_amp       = True   # automated mixed precision mode\n",
    "    grad_clip     = False  # max gradient norm (False or float)\n",
    "    batch_verbose = 6000   # print loss every n batches\n",
    "    save_all      = False  # save weights from each epoch\n",
    "    \n",
    "    # inference\n",
    "    valid_batch_size = 512    # no. images per batch on inference\n",
    "    valid_subset     = False  # no. images in validation subset (False or int)\n",
    "    beam_k           = 5      # top-k for beam search (submission only)\n",
    "\n",
    "    # learning rate and optimizer\n",
    "    cnn_eta = 2e-4     # CNN starting learning rate\n",
    "    rnn_eta = 8e-4     # RNN starting learning rate\n",
    "    eta_min = 1e-6     # ending learning rate\n",
    "    optim   = 'AdamP'  # LR optimizer ['Adam', 'AdamW', 'AdamP', 'madgrad']\n",
    "    decay   = 1e-6     # weight decay of optimizer (L2 regularization)\n",
    "\n",
    "    # learning rate scheduler\n",
    "    warmup          = 1                  # no. epochs for warmup\n",
    "    schedule        = 'CosineAnnealing'  # LR scheduler after warmup\n",
    "    update_on_batch = True               # update LR after every batch (or epoch)\n",
    "\n",
    "    # loss function\n",
    "    loss_fn = 'CE'  # loss ['CE']"
   ]
  },
  {
   "cell_type": "code",
   "execution_count": 2,
   "metadata": {
    "id": "ONx3m0TJ2PJ1"
   },
   "outputs": [],
   "source": [
    "####### CONVERT CONFIGURATION\n",
    "\n",
    "CFG = dict(vars(CFG))\n",
    "for key in ['__dict__', '__doc__', '__module__', '__weakref__']:\n",
    "    del CFG[key]"
   ]
  },
  {
   "cell_type": "code",
   "execution_count": 3,
   "metadata": {
    "id": "8a2ClHIAthIY"
   },
   "outputs": [],
   "source": [
    "####### UPDATES FOR DEBUG MODE\n",
    "\n",
    "if CFG['debug']:\n",
    "    CFG['tracking']   = False\n",
    "    CFG['save_all']   = False\n",
    "    CFG['num_epochs'] = 3"
   ]
  },
  {
   "cell_type": "markdown",
   "metadata": {
    "id": "-9ZKt08y0ViT"
   },
   "source": [
    "# 2. PREPARATIONS"
   ]
  },
  {
   "cell_type": "markdown",
   "metadata": {
    "id": "M6a7qQsU7oZe"
   },
   "source": [
    "## PACKAGES"
   ]
  },
  {
   "cell_type": "code",
   "execution_count": 4,
   "metadata": {
    "id": "HIjTLhkSBRbe"
   },
   "outputs": [],
   "source": [
    "####### PACKAGES FOR TPU\n",
    "\n",
    "if CFG['device'] == 'TPU':\n",
    "        \n",
    "    # install XLA\n",
    "    xla_version = 'nightly' # (1.7, 'nightly')\n",
    "    !curl https://raw.githubusercontent.com/pytorch/xla/master/contrib/scripts/env-setup.py -o pytorch-xla-env-setup.py\n",
    "    !python pytorch-xla-env-setup.py --version $xla_version\n",
    "\n",
    "    # settings\n",
    "    import os\n",
    "    if CFG['environment'] == 'colab':\n",
    "        assert os.environ['COLAB_TPU_ADDR']\n",
    "    os.environ['XLA_USE_BF_16'] = '1'\n",
    "    os.environ['XLA_TENSOR_ALLOCATOR_MAXSIZE'] = '100000000'\n",
    "\n",
    "    # imports\n",
    "    import torch_xla\n",
    "    import torch_xla.core.xla_model as xm\n",
    "    import torch_xla.distributed.xla_multiprocessing as xmp\n",
    "    import torch_xla.distributed.parallel_loader as pl"
   ]
  },
  {
   "source": [
    "####### PACKAGES\n",
    "\n",
    "import numpy as np\n",
    "import pandas as pd\n",
    "import scipy as sp\n",
    "\n",
    "from sklearn import preprocessing, metrics\n",
    "from sklearn.metrics import confusion_matrix, roc_auc_score\n",
    "from sklearn.model_selection import StratifiedKFold, GroupKFold, KFold\n",
    "from scipy.special import softmax\n",
    "\n",
    "from functools import partial\n",
    "\n",
    "import torch\n",
    "import torch.nn as nn\n",
    "import torch.nn.functional as F\n",
    "import torch.optim as optim\n",
    "from torch.nn.parameter import Parameter\n",
    "from torch.utils.data import Dataset, DataLoader\n",
    "from torch.utils.data.sampler import RandomSampler, SequentialSampler, WeightedRandomSampler\n",
    "from torch.utils.data.distributed import DistributedSampler\n",
    "from torch.nn.utils.rnn import pad_sequence, pack_padded_sequence\n",
    "from torch.nn.utils import clip_grad_norm_\n",
    "from torch.optim import lr_scheduler\n",
    "from torch.optim.lr_scheduler import CosineAnnealingWarmRestarts, ReduceLROnPlateau\n",
    "from torch.autograd import Function\n",
    "\n",
    "if CFG['environment'] == 'kaggle':\n",
    "    import sys\n",
    "    sys.path.append('../input/timm-pytorch-image-models/pytorch-image-models-master')\n",
    "else:\n",
    "    !pip install git+'https://github.com/rwightman/pytorch-image-models.git'\n",
    "import timm\n",
    "from timm.utils import *\n",
    "\n",
    "import os\n",
    "import gc\n",
    "import re\n",
    "import math\n",
    "import time\n",
    "import random\n",
    "import shutil\n",
    "import pickle\n",
    "import sys\n",
    "from pathlib import Path\n",
    "from contextlib import contextmanager, suppress\n",
    "from collections import defaultdict, Counter\n",
    "\n",
    "!pip install --upgrade -U albumentations\n",
    "import albumentations as A\n",
    "from albumentations.pytorch import ToTensorV2\n",
    "\n",
    "!pip install git+'https://github.com/ildoonet/pytorch-gradual-warmup-lr.git'\n",
    "from warmup_scheduler import GradualWarmupScheduler  \n",
    "\n",
    "!pip install adamp\n",
    "from adamp import AdamP\n",
    "\n",
    "!pip install madgrad\n",
    "from madgrad import MADGRAD\n",
    "\n",
    "!pip install Levenshtein\n",
    "import Levenshtein\n",
    "\n",
    "import cv2\n",
    "\n",
    "from tqdm import tqdm\n",
    "\n",
    "import gc\n",
    "gc.enable()\n",
    "\n",
    "import matplotlib.pyplot as plt\n",
    "import seaborn as sns\n",
    "%matplotlib inline\n",
    "\n",
    "import warnings"
   ],
   "cell_type": "code",
   "metadata": {
    "colab": {
     "base_uri": "https://localhost:8080/"
    },
    "id": "S6rE_WKH0ViV",
    "outputId": "404a35e6-e4c0-47e0-911f-91708a3391cb",
    "tags": []
   },
   "execution_count": null,
   "outputs": []
  },
  {
   "cell_type": "code",
   "execution_count": null,
   "metadata": {},
   "outputs": [],
   "source": [
    "####### MODULES\n",
    "\n",
    "sys.path.append('../codes')  \n",
    "\n",
    "# utilities\n",
    "from utilities import get_score, randomly, smart_print, smart_save, seed_everything, worker_init_fn\n",
    "\n",
    "# data processing\n",
    "from preprocessing import smart_crop, pad_image\n",
    "from data import get_data, get_loaders, ImageData, ImageTestData, bms_collate\n",
    "from augmentations import get_augs\n",
    "\n",
    "# tokenizer\n",
    "from tokenizer import Tokenizer\n",
    "\n",
    "# model\n",
    "from model import get_model\n",
    "from encoder import Encoder\n",
    "from decoder import _inflate, Attention, DecoderWithAttention, TopKDecoder\n",
    "from optimizers import get_optimizer, get_scheduler\n",
    "from losses import get_losses\n",
    "\n",
    "# training and inference\n",
    "from training import train_epoch\n",
    "from validation import valid_epoch, valid_epoch_with_beam_search\n",
    "from run_fold import run_fold, run_on_tpu\n",
    "from plot_results import plot_results\n",
    "    \n",
    "seed_everything(CFG['seed'], CFG)"
   ]
  },
  {
   "cell_type": "markdown",
   "metadata": {
    "id": "TVCagXgS7sKd"
   },
   "source": [
    "## ENVIRONMENT"
   ]
  },
  {
   "cell_type": "code",
   "execution_count": 7,
   "metadata": {
    "id": "2_X93RyNgsJI"
   },
   "outputs": [],
   "source": [
    "####### WORKING PATHS\n",
    "\n",
    "# kaggle\n",
    "if CFG['environment'] == 'kaggle':\n",
    "    CFG['data_path']  = '/kaggle/input/bms-molecular-translation/'\n",
    "    CFG['out_path']   = ''\n",
    "\n",
    "# local\n",
    "if CFG['environment'] == 'local':\n",
    "    CFG['data_path']  = '../input/'\n",
    "    CFG['out_path']   = '../output/v' + str(CFG['version']) + '/'\n",
    "    if not os.path.exists(CFG['out_path']):\n",
    "        os.mkdir(CFG['out_path'])"
   ]
  },
  {
   "source": [
    "####### TRACKING WITH NEPTUNE\n",
    "\n",
    "if CFG['tracking']:\n",
    "    \n",
    "    # install neptune\n",
    "    !pip install --upgrade neptune-client\n",
    "    import neptune \n",
    "\n",
    "    # create exoeriment\n",
    "    neptune.init(api_token = 'YOUR-NEPTUNE-TOKEN',\n",
    "                 project_qualified_name = 'YOUR-NEPTUNE-PROJECT')\n",
    "    neptune.create_experiment(name = 'v' + str(CFG['version']), params = CFG) "
   ],
   "cell_type": "code",
   "metadata": {
    "id": "WNePNOxvCCkS",
    "tags": []
   },
   "execution_count": null,
   "outputs": []
  },
  {
   "cell_type": "code",
   "execution_count": 9,
   "metadata": {
    "colab": {
     "base_uri": "https://localhost:8080/"
    },
    "id": "jwoqOvA10Vim",
    "outputId": "a89e9f77-b726-4620-f931-ed25b000fed2"
   },
   "outputs": [
    {
     "name": "stdout",
     "output_type": "stream",
     "text": [
      "Training on GPU 1...\n"
     ]
    }
   ],
   "source": [
    "####### TRAINING DEVICE\n",
    "\n",
    "if CFG['device'] == 'TPU':\n",
    "    print('Training on TPU...')\n",
    "    device      = torch.device('cpu')\n",
    "    serial_exec = xmp.MpSerialExecutor()\n",
    "    \n",
    "if CFG['device'] == 'GPU':\n",
    "    print('Training on GPU {}...'.format(CFG['gpu_index']))\n",
    "    device = torch.device('cuda:{}'.format(CFG['gpu_index']))\n",
    "\n",
    "if CFG['device'] == 'CPU':\n",
    "    print('Training on CPU...')\n",
    "    device = torch.device('cpu') "
   ]
  },
  {
   "cell_type": "code",
   "execution_count": 10,
   "metadata": {},
   "outputs": [
    {
     "name": "stdout",
     "output_type": "stream",
     "text": [
      "- setting random seed to 13353...\n"
     ]
    }
   ],
   "source": [
    "####### ENVIRONMENT SETTINGS\n",
    "\n",
    "warnings.filterwarnings('ignore')       # ignoring warnings\n",
    "torch.backends.cudnn.benchmark = False  # set to True if NN inputs are the same size\n",
    "seed_everything(CFG['seed'], CFG)       # random seed"
   ]
  },
  {
   "cell_type": "markdown",
   "metadata": {
    "id": "T2OuAGJw0Viv"
   },
   "source": [
    "# 3. DATA PREP"
   ]
  },
  {
   "cell_type": "code",
   "execution_count": 11,
   "metadata": {
    "papermill": {
     "duration": 13.217913,
     "end_time": "2021-03-12T23:46:38.297734",
     "exception": false,
     "start_time": "2021-03-12T23:46:25.079821",
     "status": "completed"
    },
    "tags": []
   },
   "outputs": [
    {
     "data": {
      "text/plain": [
       "0    484838\n",
       "1    484837\n",
       "2    484837\n",
       "3    484837\n",
       "4    484837\n",
       "Name: fold, dtype: int64"
      ]
     },
     "execution_count": 11,
     "metadata": {},
     "output_type": "execute_result"
    }
   ],
   "source": [
    "####### DATA PROCESSING\n",
    "\n",
    "# import\n",
    "if CFG['environment'] == 'local':\n",
    "    df = pd.read_pickle(CFG['data_path'] + 'train2.pkl')\n",
    "elif CFG['environment'] == 'kaggle':\n",
    "    df = pd.read_pickle('../input/inchi-preprocess-2/train2.pkl')\n",
    "\n",
    "# update paths\n",
    "def get_train_file_path(image_id):\n",
    "    return CFG['data_path'] + 'train/{}/{}/{}/{}.png'.format(image_id[0], image_id[1], image_id[2], image_id )\n",
    "df['file_path'] = df['image_id'].apply(get_train_file_path)\n",
    "\n",
    "# partitioning\n",
    "skf = StratifiedKFold(n_splits = CFG['num_folds'], shuffle = True, random_state = CFG['seed'])\n",
    "for fold, (trn_idx, val_idx) in enumerate(skf.split(df, df['InChI_length'])):\n",
    "    df.loc[val_idx, 'fold'] = fold\n",
    "df['fold'] = df['fold'].astype(int)\n",
    "df['fold'].value_counts()"
   ]
  },
  {
   "cell_type": "code",
   "execution_count": 15,
   "metadata": {
    "papermill": {
     "duration": 0.092009,
     "end_time": "2021-03-12T23:46:38.423857",
     "exception": false,
     "start_time": "2021-03-12T23:46:38.331848",
     "status": "completed"
    },
    "tags": []
   },
   "outputs": [],
   "source": [
    "####### TOKENIZER\n",
    "\n",
    "if CFG['environment'] == 'local':\n",
    "    tokenizer = torch.load(CFG['data_path'] + 'tokenizer2.pth')\n",
    "elif CFG['environment'] == 'kaggle':\n",
    "    tokenizer = torch.load('../input/inchi-preprocess-2/tokenizer2.pth')"
   ]
  },
  {
   "cell_type": "code",
   "execution_count": 17,
   "metadata": {},
   "outputs": [
    {
     "name": "stdout",
     "output_type": "stream",
     "text": [
      "- batch shape:  torch.Size([5, 3, 260, 260]) vs torch.Size([5, 3, 260, 260])\n",
      "- loading time: 2.4786 vs 0.3008 seconds\n",
      "- pixel values: 0.00 - 0.97 - 1.00 vs 0.00 - 0.97 - 1.00\n"
     ]
    },
    {
     "data": {
      "text/plain": [
       "32"
      ]
     },
     "execution_count": 17,
     "metadata": {},
     "output_type": "execute_result"
    },
    {
     "data": {
      "image/png": "[encoded data removed]",
      "text/plain": [
       "<Figure size 1440x576 with 10 Axes>"
      ]
     },
     "metadata": {},
     "output_type": "display_data"
    }
   ],
   "source": [
    "####### EXAMINE SAMPLE BATCH\n",
    "\n",
    "# sample size\n",
    "sample = 5\n",
    "\n",
    "# augmentations\n",
    "train_augs, valid_augs = get_augs(CFG, image_size = CFG['image_size'])\n",
    "\n",
    "# datasets\n",
    "train_dataset = ImageData(df         = df.head(sample), \n",
    "                          tokenizer  = tokenizer,\n",
    "                          channels   = CFG['num_channels'],\n",
    "                          crop       = CFG['smart_crop'],\n",
    "                          morphology = CFG['morphology'],\n",
    "                          meta       = CFG['meta_data'],\n",
    "                          transform  = train_augs)\n",
    "valid_dataset = ImageTestData(df         = df.head(sample), \n",
    "                              channels   = CFG['num_channels'],\n",
    "                              crop       = CFG['smart_crop'],\n",
    "                              morphology = CFG['morphology'],\n",
    "                              meta       = CFG['meta_data'],\n",
    "                              transform  = valid_augs)\n",
    "\n",
    "# data loaders\n",
    "train_loader = DataLoader(dataset     = train_dataset, \n",
    "                          batch_size  = sample, \n",
    "                          shuffle       = False, \n",
    "                          num_workers = CFG['cpu_workers'],\n",
    "                          drop_last   = True, \n",
    "                          collate_fn  = bms_collate)\n",
    "valid_loader = DataLoader(dataset     = valid_dataset, \n",
    "                          batch_size  = sample, \n",
    "                          shuffle       = False, \n",
    "                          num_workers = CFG['cpu_workers'],\n",
    "                          drop_last   = False)\n",
    "\n",
    "# display train images\n",
    "batch_time = time.time()\n",
    "for batch_idx, (inputs, labels, lengths) in enumerate(train_loader):\n",
    "    \n",
    "    # extract inputs and labels\n",
    "    inputs  = inputs.to(device)\n",
    "    labels  = labels.to(device)\n",
    "    lengths = lengths.to(device)\n",
    "    \n",
    "    # feedback\n",
    "    inputs_shape = inputs.shape\n",
    "    load_time    = time.time() - batch_time\n",
    "    pixel_values = [torch.min(inputs).item(), torch.mean(inputs).item(), torch.max(inputs).item()]\n",
    "\n",
    "    # examples\n",
    "    fig = plt.figure(figsize = (20, 8))\n",
    "    for i in range(sample):\n",
    "        ax = fig.add_subplot(2, sample, i + 1, xticks = [], yticks = [])     \n",
    "        plt.imshow(inputs[i].cpu().numpy()[0, :, :], cmap = 'gray')\n",
    "        ax.set_title('{} (train)'.format(labels[i].cpu().numpy()[0:3]), color = 'red')\n",
    "    break\n",
    "\n",
    "# display valid images\n",
    "batch_time = time.time()\n",
    "for batch_idx, inputs in enumerate(valid_loader):\n",
    "                    \n",
    "    # feedback\n",
    "    print('- batch shape:  {} vs {}'.format(inputs_shape, inputs.shape))\n",
    "    print('- loading time: {:.4f} vs {:.4f} seconds'.format(load_time, (time.time() - batch_time)))\n",
    "    print('- pixel values: {:.2f} - {:.2f} - {:.2f} vs {:.2f} - {:.2f} - {:.2f}'.format(\n",
    "            pixel_values[0], pixel_values[1], pixel_values[2],\n",
    "            torch.min(inputs).item(), torch.mean(inputs).item(), torch.max(inputs).item()))\n",
    "\n",
    "    # examples\n",
    "    for i in range(sample):\n",
    "        ax = fig.add_subplot(2, sample, sample + i + 1, xticks = [], yticks = [])     \n",
    "        plt.imshow(inputs[i].cpu().numpy()[0, :, :], cmap = 'gray')\n",
    "        ax.set_title('(valid)', color = 'green')\n",
    "    plt.savefig(CFG['out_path'] + 'fig_sample.png')\n",
    "    break\n",
    "    \n",
    "# clean up\n",
    "del inputs, labels, lengths, batch_idx, train_loader, valid_loader, train_dataset, valid_dataset\n",
    "del train_augs, valid_augs, pixel_values, inputs_shape\n",
    "gc.collect()"
   ]
  },
  {
   "cell_type": "markdown",
   "metadata": {
    "id": "NtAEmeT80VjI"
   },
   "source": [
    "# 4. CROSS-VALIDATION"
   ]
  },
  {
   "source": [
    "####### CROSS-VALIDATION LOOP\n",
    "\n",
    "# timer\n",
    "cv_start = time.time()\n",
    "\n",
    "# clear memory\n",
    "gc.collect()\n",
    "\n",
    "# amp settings\n",
    "amp_autocast = suppress\n",
    "if CFG['use_amp']:\n",
    "    amp_autocast = torch.cuda.amp.autocast\n",
    "    scaler       = torch.cuda.amp.GradScaler()\n",
    "\n",
    "# placeholders\n",
    "oof = None\n",
    "\n",
    "# cross-validation\n",
    "for fold in range(1):\n",
    "        \n",
    "    # feedback\n",
    "    print('-' * 55)\n",
    "    print('FOLD {:d}/{:d}'.format(fold + 1, CFG['num_folds']))    \n",
    "    print('-' * 55) \n",
    "    \n",
    "    # prepare model\n",
    "    encoder, decoder = get_model(CFG, device)\n",
    "    \n",
    "    # prepare data\n",
    "    df_trn, df_val = get_data(df, fold, CFG)  \n",
    "    \n",
    "    # training and inference\n",
    "    if CFG['device'] != 'TPU':\n",
    "        trn_losses, val_scores, val_preds_best = run_fold(fold, df_trn, df_val, CFG, encoder, decoder, device)\n",
    "    else:\n",
    "        xmp.spawn(run_on_tpu, args = (CFG, ), nprocs = CFG['tpu_workers'], start_method = 'fork')\n",
    "        trn_losses     = np.load('trn_losses.npy')\n",
    "        val_scores     = np.load('val_scores.npy')\n",
    "        val_preds_best = np.load('val_preds_best.npy')\n",
    "            \n",
    "    # export OOF preds\n",
    "    val_preds_df = pd.DataFrame(val_preds_best, columns = ['pred'])\n",
    "    val_preds_df = pd.concat([df_val, val_preds_df], axis = 1)\n",
    "    oof          = pd.concat([oof,    val_preds_df], axis = 0).reset_index(drop = True)\n",
    "    oof.to_csv(CFG['out_path'] + 'oof.csv', index = False)\n",
    "    \n",
    "    # feedback\n",
    "    print('-' * 55)\n",
    "    print('Best: score = {:.4f} (epoch {})'.format(\n",
    "        np.min(val_scores), np.argmin(val_scores) + 1))\n",
    "    print('-' * 55)\n",
    "\n",
    "    # plot loss dynamics\n",
    "    plot_results(trn_losses, val_scores, fold, CFG)\n",
    "    \n",
    "    # send weights to neptune\n",
    "    if CFG['tracking']:\n",
    "        neptune.send_artifact(CFG['out_path'] + 'weights_fold{}.pth'.format(fold))\n",
    "\n",
    "# feedback\n",
    "print('')\n",
    "print('Finished in {:.2f} minutes'.format((time.time() - cv_start) / 60))"
   ],
   "cell_type": "code",
   "metadata": {
    "colab": {
     "base_uri": "https://localhost:8080/"
    },
    "executionInfo": {
     "elapsed": 3044361,
     "status": "ok",
     "timestamp": 1615370578775,
     "user": {
      "displayName": "Nikita Kozodoi",
      "photoUrl": "https://lh3.googleusercontent.com/a-/AOh14GiCVN_3Xi0J8NvHyRnDYQTNT4f2-Ittgsb_oJAtew=s64",
      "userId": "17221903670012320244"
     },
     "user_tz": -60
    },
    "id": "VIOZZY6cfxBx",
    "outputId": "deef0130-acdf-434d-8b76-db6bea21127f"
   },
   "execution_count": null,
   "outputs": []
  },
  {
   "cell_type": "code",
   "execution_count": 34,
   "metadata": {
    "colab": {
     "base_uri": "https://localhost:8080/"
    },
    "id": "cJQFNQsc0VjL",
    "outputId": "7d290c95-388d-4420-c8ad-afdd8e5e37cc"
   },
   "outputs": [
    {
     "name": "stdout",
     "output_type": "stream",
     "text": [
      "------------------------------\n",
      "OOF score = 1.8457\n",
      "------------------------------\n",
      "InChI=1S/C61H104O6/c1-4-7-10-13-16-19-22-25-27-29-31-33-35-38-41-44-47-50-53-59(62)65-56-57(55-64-58(61)52-49-46-43-40-37-34-24-21-18-15-12-9-6-3)66-60(63)54-51-48-45-42-39-36-32-30-28-26-23-20-17-14-11-8-5-2/h9,12,15,17-18,20-21,23-24,26-27,29-30,32,35,39,56H,4-8,10-11,13-14,16,19,22,25,28,31,33,36-38,40-56H2,1-3H3/b12-9-,18-15-,20-17-,24-23-,29-27-,31-26-,36-33-\n",
      "------------------------------\n",
      "InChI=1S/C59H104O6/c1-4-7-10-13-16-19-22-25-27-29-31-33-36-39-42-45-48-51-57(60)63-54-55(53-62-56(59)50-47-44-41-38-35-32-24-21-18-15-12-9-6-3)64-58(61)52-49-46-43-40-37-34-30-28-26-23-20-17-14-11-8-5-2/h9,12,15,18,21,24,27,29,32,34,37,40,43,46,56H,4-8,10-11,13-14,16-17,19-20,22-23,25-26,28,30-31,33,35-38,40-41,43-52H2,1-3H3/b12-9+,18-15+,24-21+,30-29+,36-33+,42-39+\n",
      "------------------------------\n",
      "InChI=1S/C59H98O6/c1-4-7-10-13-16-19-22-25-28-29-30-31-33-35-38-41-44-47-50-53-59(62)65-56-57(55-64-58(61)52-49-46-43-40-37-34-27-24-21-18-15-12-9-6-3)66-60(63)54-51-48-45-42-39-36-32-26-23-20-17-14-11-8-5-2/h7,10,13,16,19,22,25-26,28-29,31-32,34,36,56H,4-6,8-9,11-12,14-15,17-18,20-21,23-24,27,30,33,35-36,38-56H2,1-3H3/b10-7-,16-13-,22-19-,29-26-,31-28-,34-31-,37-34-\n",
      "------------------------------\n",
      "InChI=1S/C57H94O6/c1-4-7-10-13-16-19-22-25-26-27-28-29-30-32-34-37-40-43-46-49-55(58)61-52-53(51-60-54(57)48-45-42-39-36-33-24-21-18-15-12-9-6-3)63-57(60)51-48-45-42-39-36-33-30-23-20-17-14-11-8-5-2/h8-9,11-12,14,17-18,20-21,24,26-27,29-30,32,35,37,40,52H,4-7,10,13,15-16,19,22-23,25,28,31-32,34-35,37-38,40-41,43-52H2,1-3H3/b11-8-,12-9-,17-14-,21-18-,24-20-,29-27-,32-30-,37-34-,40-37-\n",
      "------------------------------\n",
      "InChI=1S/C61H102O6/c1-4-7-10-13-16-19-22-25-27-29-30-32-33-36-39-42-45-48-51-54-60(63)66-57-58(56-65-59(62)53-50-47-44-41-38-35-24-21-18-15-12-9-6-3)67-61(64)55-52-49-46-43-40-37-34-31-28-26-23-20-17-14-11-8-5-2/h7,10,16,19,25,27,29,31,35,37,40,43,56H,4-6,8-9,11-15,17-18,20-24,26,28,30,32-33,35-36,38-39,41-42,44-57H2,1-3H3/b10-7-,19-16-,27-25-,31-29-,38-35-,46-43-\n",
      "------------------------------\n"
     ]
    }
   ],
   "source": [
    "####### CHECK OOF PERFORMANCE\n",
    "\n",
    "# compute score\n",
    "oof_score = get_score(oof['InChI'], oof['pred'])\n",
    "\n",
    "# print performance\n",
    "print('-' * 30)\n",
    "print('OOF score = {:.4f}'.format(oof_score))\n",
    "print('-' * 30)\n",
    "\n",
    "# inspect predictions\n",
    "for i in range(5): \n",
    "    print(oof['pred'][i])\n",
    "    print('-' * 30)"
   ]
  },
  {
   "cell_type": "code",
   "execution_count": 35,
   "metadata": {
    "id": "2g1eeDFgleGB"
   },
   "outputs": [],
   "source": [
    "####### EXPORT CONFIGURATION\n",
    "\n",
    "# store performance values\n",
    "CFG['time_hours'] = (time.time() - cv_start) / 3600\n",
    "CFG['oof_score']  = oof_score\n",
    "\n",
    "# save dictionary\n",
    "pickle.dump(CFG, open(CFG['out_path'] + 'configuration.pkl', 'wb'))\n",
    "\n",
    "# send to Neptune\n",
    "if CFG['tracking']:\n",
    "    neptune.send_metric('oof_score', oof_score)\n",
    "    neptune.send_artifact(CFG['out_path'] + 'oof.csv')           \n",
    "    neptune.send_artifact(CFG['out_path'] + 'configuration.pkl')"
   ]
  },
  {
   "cell_type": "markdown",
   "metadata": {
    "id": "e5bUh1-_0VjL",
    "tags": []
   },
   "source": [
    "# 5. SUBMISSION"
   ]
  },
  {
   "cell_type": "code",
   "execution_count": 36,
   "metadata": {},
   "outputs": [
    {
     "name": "stdout",
     "output_type": "stream",
     "text": [
      "test.shape: (1616107, 3)\n"
     ]
    },
    {
     "data": {
      "text/html": [
       "<div>\n",
       "<style scoped>\n",
       "    .dataframe tbody tr th:only-of-type {\n",
       "        vertical-align: middle;\n",
       "    }\n",
       "\n",
       "    .dataframe tbody tr th {\n",
       "        vertical-align: top;\n",
       "    }\n",
       "\n",
       "    .dataframe thead th {\n",
       "        text-align: right;\n",
       "    }\n",
       "</style>\n",
       "<table border=\"1\" class=\"dataframe\">\n",
       "  <thead>\n",
       "    <tr style=\"text-align: right;\">\n",
       "      <th></th>\n",
       "      <th>image_id</th>\n",
       "      <th>InChI</th>\n",
       "      <th>file_path</th>\n",
       "    </tr>\n",
       "  </thead>\n",
       "  <tbody>\n",
       "    <tr>\n",
       "      <th>0</th>\n",
       "      <td>50e8e8ede47a</td>\n",
       "      <td>InChI=1S/C59H102O12/c1-4-7-10-13-16-19-22-24-2...</td>\n",
       "      <td>../input/test/5/0/e/50e8e8ede47a.png</td>\n",
       "    </tr>\n",
       "    <tr>\n",
       "      <th>1</th>\n",
       "      <td>1b07f0b939a4</td>\n",
       "      <td>InChI=1S/C63H121NO10/c1-3-5-7-9-11-13-15-17-19...</td>\n",
       "      <td>../input/test/1/b/0/1b07f0b939a4.png</td>\n",
       "    </tr>\n",
       "    <tr>\n",
       "      <th>2</th>\n",
       "      <td>aca3798223b1</td>\n",
       "      <td>InChI=1S/C59H106O6/c1-6-13-18-23-26-29-32-35-3...</td>\n",
       "      <td>../input/test/a/c/a/aca3798223b1.png</td>\n",
       "    </tr>\n",
       "    <tr>\n",
       "      <th>3</th>\n",
       "      <td>85ad5e28e090</td>\n",
       "      <td>InChI=1S/C63H121NO10/c1-3-5-7-9-11-13-15-17-19...</td>\n",
       "      <td>../input/test/8/5/a/85ad5e28e090.png</td>\n",
       "    </tr>\n",
       "    <tr>\n",
       "      <th>4</th>\n",
       "      <td>a875b8237b67</td>\n",
       "      <td>InChI=1S/C59H121NO3/c1-3-5-7-9-11-13-15-17-19-...</td>\n",
       "      <td>../input/test/a/8/7/a875b8237b67.png</td>\n",
       "    </tr>\n",
       "  </tbody>\n",
       "</table>\n",
       "</div>"
      ],
      "text/plain": [
       "       image_id                                              InChI  \\\n",
       "0  50e8e8ede47a  InChI=1S/C59H102O12/c1-4-7-10-13-16-19-22-24-2...   \n",
       "1  1b07f0b939a4  InChI=1S/C63H121NO10/c1-3-5-7-9-11-13-15-17-19...   \n",
       "2  aca3798223b1  InChI=1S/C59H106O6/c1-6-13-18-23-26-29-32-35-3...   \n",
       "3  85ad5e28e090  InChI=1S/C63H121NO10/c1-3-5-7-9-11-13-15-17-19...   \n",
       "4  a875b8237b67  InChI=1S/C59H121NO3/c1-3-5-7-9-11-13-15-17-19-...   \n",
       "\n",
       "                              file_path  \n",
       "0  ../input/test/5/0/e/50e8e8ede47a.png  \n",
       "1  ../input/test/1/b/0/1b07f0b939a4.png  \n",
       "2  ../input/test/a/c/a/aca3798223b1.png  \n",
       "3  ../input/test/8/5/a/85ad5e28e090.png  \n",
       "4  ../input/test/a/8/7/a875b8237b67.png  "
      ]
     },
     "metadata": {},
     "output_type": "display_data"
    }
   ],
   "source": [
    "###### DATA PROCESSING\n",
    "\n",
    "# import\n",
    "sub = pd.read_csv(CFG['data_path'] + 'sample_submission.csv')\n",
    "if CFG['debug']:\n",
    "    sub = sub.head(512 * 8)\n",
    "\n",
    "# update paths\n",
    "def get_test_file_path(image_id):\n",
    "    return CFG['data_path'] + 'test/{}/{}/{}/{}.png'.format(image_id[0], image_id[1], image_id[2], image_id)\n",
    "sub['file_path'] = sub['image_id'].apply(get_test_file_path)\n",
    "\n",
    "# display\n",
    "print(f'test.shape: {sub.shape}')\n",
    "display(sub.head())"
   ]
  },
  {
   "source": [
    "###### INFERENCE\n",
    "\n",
    "# prepare data loader\n",
    "_, test_augs = get_augs(CFG)\n",
    "test_dataset = ImageTestData(df        = sub, \n",
    "                             transform = test_augs)\n",
    "test_loader  = DataLoader(test_dataset, \n",
    "                          batch_size  = 512, \n",
    "                          shuffle       = False,\n",
    "                          num_workers = CFG['cpu_workers'],\n",
    "                          pin_memory  = False)\n",
    "\n",
    "# load best model\n",
    "encoder, decoder = get_model(CFG, device, pretrained = CFG['out_path'] + 'weights_fold0.pth')\n",
    "encoder.to(device)\n",
    "decoder.to(device)\n",
    "\n",
    "# inference\n",
    "if CFG['beam_k'] == 1:\n",
    "    test_preds = valid_epoch(test_loader, encoder, decoder, tokenizer, CFG, device)\n",
    "elif CFG['beam_k'] > 1:\n",
    "    test_preds = valid_epoch_with_beam_search(test_loader, encoder, decoder, tokenizer, CFG, device)"
   ],
   "cell_type": "code",
   "metadata": {},
   "execution_count": null,
   "outputs": []
  },
  {
   "cell_type": "code",
   "execution_count": null,
   "metadata": {},
   "outputs": [],
   "source": [
    "####### EXPORT SUBMISSION\n",
    "\n",
    "# save submission\n",
    "sub['InChI'] = ['InChI=1S/{}'.format(p) for p in test_preds]\n",
    "sub[['image_id', 'InChI']].to_csv(CFG['out_path'] + 'submission.csv', index = False)\n",
    "display(sub[['image_id', 'InChI']].head())\n",
    "\n",
    "# send to Neptune\n",
    "if CFG['tracking']:\n",
    "    neptune.send_artifact(CFG['out_path'] + 'submission.csv') \n",
    "    neptune.stop()"
   ]
  }
 ],
 "metadata": {
  "kernelspec": {
   "display_name": "Python 3",
   "language": "python",
   "name": "python3"
  },
  "language_info": {
   "codemirror_mode": {
    "name": "ipython",
    "version": 3
   },
   "file_extension": ".py",
   "mimetype": "text/x-python",
   "name": "python",
   "nbconvert_exporter": "python",
   "pygments_lexer": "ipython3",
   "version": "3.8.8"
  },
  "neptune": {
   "notebookId": "83aec7da-b563-4f21-b7c2-a086a97d489b",
   "projectVersion": 2
  },
  "papermill": {
   "default_parameters": {},
   "duration": 27660.340489,
   "end_time": "2021-03-13T07:27:19.479867",
   "environment_variables": {},
   "exception": null,
   "input_path": "__notebook__.ipynb",
   "output_path": "__notebook__.ipynb",
   "parameters": {},
   "start_time": "2021-03-12T23:46:19.139378",
   "version": "2.2.2"
  },
  "toc-autonumbering": false,
  "toc-showtags": false
 },
 "nbformat": 4,
 "nbformat_minor": 4
}