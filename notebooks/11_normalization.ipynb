{
 "cells": [
  {
   "source": [
    "# SUMMARY\n",
    "\n",
    "This notebook normalizes model predictions using RDKit molecule translation functionality. Path to model predictions is specified as `orig_path`. To reproduce the submission, each model prediction needs to be normalized using the script below."
   ],
   "cell_type": "markdown",
   "metadata": {}
  },
  {
   "cell_type": "code",
   "execution_count": null,
   "metadata": {},
   "outputs": [],
   "source": [
    "##### MODEL PREDICTIONS\n",
    "\n",
    "orig_path = '../input/bms-sub-v6/submission.csv'"
   ]
  },
  {
   "source": [
    "# PREPARATIONS"
   ],
   "cell_type": "markdown",
   "metadata": {}
  },
  {
   "cell_type": "code",
   "execution_count": 1,
   "metadata": {
    "_cell_guid": "b1076dfc-b9ad-4769-8c92-a6c4dae69d19",
    "_uuid": "8f2839f25d086af736a60e9eeb907d3b93b6e0e5",
    "execution": {
     "iopub.execute_input": "2021-06-03T20:44:27.452565Z",
     "iopub.status.busy": "2021-06-03T20:44:27.451806Z",
     "iopub.status.idle": "2021-06-03T20:45:52.784418Z",
     "shell.execute_reply": "2021-06-03T20:45:52.783719Z",
     "shell.execute_reply.started": "2021-06-03T18:37:42.719334Z"
    },
    "papermill": {
     "duration": 85.343121,
     "end_time": "2021-06-03T20:45:52.784654",
     "exception": false,
     "start_time": "2021-06-03T20:44:27.441533",
     "status": "completed"
    },
    "tags": []
   },
   "outputs": [
    {
     "name": "stdout",
     "output_type": "stream",
     "text": [
      "Collecting package metadata (current_repodata.json): - \b\b\\ \b\b| \b\b/ \b\b- \b\b\\ \b\b| \b\b/ \b\b- \b\b\\ \b\b| \b\b/ \b\b- \b\b\\ \b\b| \b\b/ \b\b- \b\b\\ \b\b| \b\b/ \b\b- \b\b\\ \b\b| \b\b/ \b\b- \b\b\\ \b\b| \b\b/ \b\b- \b\b\\ \b\b| \b\b/ \b\b- \b\b\\ \b\b| \b\b/ \b\b- \b\b\\ \b\b| \b\b/ \b\b- \b\b\\ \b\b| \b\b/ \b\b- \b\b\\ \b\b| \b\b/ \b\b- \b\b\\ \b\b| \b\b/ \b\b- \b\b\\ \b\b| \b\b/ \b\b- \b\b\\ \b\b| \b\b/ \b\b- \b\b\\ \b\b| \b\b/ \b\b- \b\b\\ \b\b| \b\b/ \b\b- \b\b\\ \b\b| \b\b/ \b\b- \b\b\\ \b\b| \b\b/ \b\b- \b\b\\ \b\b| \b\b/ \b\b- \b\b\\ \b\b| \b\b/ \b\b- \b\b\\ \b\b| \b\b/ \b\b- \b\b\\ \b\b| \b\b/ \b\b- \b\b\\ \b\b| \b\b/ \b\b- \b\b\\ \b\b| \b\b/ \b\b- \b\b\\ \b\b| \b\b/ \b\b- \b\b\\ \b\b| \b\b/ \b\b- \b\b\\ \b\b| \b\b/ \b\b- \b\b\\ \b\b| \b\b/ \b\b- \b\b\\ \b\b| \b\b/ \b\b- \b\b\\ \b\b| \b\b/ \b\b- \b\b\\ \b\b| \b\b/ \b\b- \b\b\\ \b\b| \b\b/ \b\b- \b\b\\ \b\b| \b\b/ \b\b- \b\b\\ \b\b| \b\b/ \b\b- \b\b\\ \b\b| \b\b/ \b\b- \b\b\\ \b\b| \b\b/ \b\b- \b\b\\ \b\b| \b\b/ \b\b- \b\b\\ \b\b| \b\b/ \b\bdone\r\n",
      "Solving environment: \\ \b\b| \b\b/ \b\b- \b\b\\ \b\b| \b\b/ \b\b- \b\b\\ \b\b| \b\b/ \b\b- \b\b\\ \b\b| \b\b/ \b\b- \b\b\\ \b\b| \b\b/ \b\b- \b\b\\ \b\b| \b\b/ \b\b- \b\b\\ \b\b| \b\b/ \b\b- \b\b\\ \b\b| \b\b/ \b\b- \b\b\\ \b\b| \b\b/ \b\b- \b\b\\ \b\b| \b\b/ \b\b- \b\b\\ \b\b| \b\b/ \b\b- \b\b\\ \b\b| \b\b/ \b\b- \b\b\\ \b\b| \b\b/ \b\b- \b\b\\ \b\b| \b\b/ \b\b- \b\b\\ \b\b| \b\b/ \b\b- \b\b\\ \b\b| \b\b/ \b\b- \b\b\\ \b\b| \b\b/ \b\b- \b\b\\ \b\b| \b\b/ \b\b- \b\b\\ \b\b| \b\b/ \b\b- \b\b\\ \b\b| \b\b/ \b\b- \b\b\\ \b\b| \b\b/ \b\b- \b\b\\ \b\b| \b\b/ \b\b- \b\b\\ \b\b| \b\b/ \b\b- \b\b\\ \b\b| \b\b/ \b\b- \b\b\\ \b\b| \b\b/ \b\b- \b\b\\ \b\b| \b\b/ \b\b- \b\b\\ \b\b| \b\b/ \b\b- \b\b\\ \b\b| \b\b/ \b\b- \b\b\\ \b\b| \b\b/ \b\b- \b\b\\ \b\b| \b\b/ \b\b- \b\b\\ \b\b| \b\b/ \b\b- \b\b\\ \b\b| \b\b/ \b\b- \b\b\\ \b\b| \b\b/ \b\b- \b\b\\ \b\b| \b\b/ \b\bdone\r\n",
      "\r\n",
      "## Package Plan ##\r\n",
      "\r\n",
      "  environment location: /opt/conda\r\n",
      "\r\n",
      "  added / updated specs:\r\n",
      "    - rdkit\r\n",
      "\r\n",
      "\r\n",
      "The following packages will be downloaded:\r\n",
      "\r\n",
      "    package                    |            build\r\n",
      "    ---------------------------|-----------------\r\n",
      "    boost-1.74.0               |   py37h6dcda5c_3         342 KB  conda-forge\r\n",
      "    ca-certificates-2021.5.30  |       ha878542_0         136 KB  conda-forge\r\n",
      "    certifi-2021.5.30          |   py37h89c1867_0         141 KB  conda-forge\r\n",
      "    conda-4.10.1               |   py37h89c1867_0         3.1 MB  conda-forge\r\n",
      "    openssl-1.1.1k             |       h7f98852_0         2.1 MB  conda-forge\r\n",
      "    rdkit-2021.03.2            |   py37haf5a968_0        38.3 MB  conda-forge\r\n",
      "    reportlab-3.5.67           |   py37h69800bb_0         2.4 MB  conda-forge\r\n",
      "    ------------------------------------------------------------\r\n",
      "                                           Total:        46.5 MB\r\n",
      "\r\n",
      "The following NEW packages will be INSTALLED:\r\n",
      "\r\n",
      "  boost              conda-forge/linux-64::boost-1.74.0-py37h6dcda5c_3\r\n",
      "  rdkit              conda-forge/linux-64::rdkit-2021.03.2-py37haf5a968_0\r\n",
      "  reportlab          conda-forge/linux-64::reportlab-3.5.67-py37h69800bb_0\r\n",
      "\r\n",
      "The following packages will be UPDATED:\r\n",
      "\r\n",
      "  ca-certificates                      2020.12.5-ha878542_0 --> 2021.5.30-ha878542_0\r\n",
      "  certifi                          2020.12.5-py37h89c1867_1 --> 2021.5.30-py37h89c1867_0\r\n",
      "  conda                                4.9.2-py37h89c1867_0 --> 4.10.1-py37h89c1867_0\r\n",
      "  openssl                                 1.1.1j-h7f98852_0 --> 1.1.1k-h7f98852_0\r\n",
      "\r\n",
      "\r\n",
      "\r\n",
      "Downloading and Extracting Packages\r\n",
      "boost-1.74.0         | 342 KB    | ##################################### | 100% \r\n",
      "conda-4.10.1         | 3.1 MB    | ##################################### | 100% \r\n",
      "openssl-1.1.1k       | 2.1 MB    | ##################################### | 100% \r\n",
      "reportlab-3.5.67     | 2.4 MB    | ##################################### | 100% \r\n",
      "ca-certificates-2021 | 136 KB    | ##################################### | 100% \r\n",
      "certifi-2021.5.30    | 141 KB    | ##################################### | 100% \r\n",
      "rdkit-2021.03.2      | 38.3 MB   | ##################################### | 100% \r\n",
      "Preparing transaction: \\ \b\b| \b\bdone\r\n",
      "Verifying transaction: - \b\b\\ \b\b| \b\b/ \b\b- \b\b\\ \b\b| \b\b/ \b\b- \b\bdone\r\n",
      "Executing transaction: | \b\b/ \b\b- \b\b\\ \b\b| \b\b/ \b\b- \b\b\\ \b\b| \b\b/ \b\b- \b\b\\ \b\b| \b\b/ \b\b- \b\b\\ \b\b| \b\b/ \b\b- \b\b\\ \b\b| \b\b/ \b\b- \b\b\\ \b\b| \b\b/ \b\b- \b\b\\ \b\b| \b\b/ \b\b- \b\b\\ \b\b| \b\b/ \b\b- \b\b\\ \b\b| \b\b/ \b\b- \b\b\\ \b\b| \b\b/ \b\b- \b\bdone\r\n"
     ]
    }
   ],
   "source": [
    "##### LIBRARIES\n",
    "\n",
    "!conda install -y -c rdkit rdkit\n",
    "\n",
    "import pandas as pd\n",
    "import Levenshtein\n",
    "from tqdm import tqdm \n",
    "from pathlib import Path"
   ]
  },
  {
   "cell_type": "code",
   "execution_count": 2,
   "metadata": {
    "execution": {
     "iopub.execute_input": "2021-06-03T20:45:53.016826Z",
     "iopub.status.busy": "2021-06-03T20:45:53.016127Z",
     "iopub.status.idle": "2021-06-03T20:46:10.038711Z",
     "shell.execute_reply": "2021-06-03T20:46:10.038110Z"
    },
    "papermill": {
     "duration": 17.140304,
     "end_time": "2021-06-03T20:46:10.038856",
     "exception": false,
     "start_time": "2021-06-03T20:45:52.898552",
     "status": "completed"
    },
    "tags": []
   },
   "outputs": [
    {
     "data": {
      "text/html": [
       "<div>\n",
       "<style scoped>\n",
       "    .dataframe tbody tr th:only-of-type {\n",
       "        vertical-align: middle;\n",
       "    }\n",
       "\n",
       "    .dataframe tbody tr th {\n",
       "        vertical-align: top;\n",
       "    }\n",
       "\n",
       "    .dataframe thead th {\n",
       "        text-align: right;\n",
       "    }\n",
       "</style>\n",
       "<table border=\"1\" class=\"dataframe\">\n",
       "  <thead>\n",
       "    <tr style=\"text-align: right;\">\n",
       "      <th></th>\n",
       "      <th>image_id</th>\n",
       "      <th>InChI</th>\n",
       "      <th>event</th>\n",
       "    </tr>\n",
       "  </thead>\n",
       "  <tbody>\n",
       "    <tr>\n",
       "      <th>0</th>\n",
       "      <td>e5dca4c9bebd</td>\n",
       "      <td>InChI=1S/CH4O/c1-2-3/h4H</td>\n",
       "      <td>error</td>\n",
       "    </tr>\n",
       "    <tr>\n",
       "      <th>1</th>\n",
       "      <td>c2d86f19e139</td>\n",
       "      <td>InChI=1S/C3HCl3NS/c4-1-2(5)8-3(6)7-1</td>\n",
       "      <td>error</td>\n",
       "    </tr>\n",
       "    <tr>\n",
       "      <th>2</th>\n",
       "      <td>2f939a72af1e</td>\n",
       "      <td>InChI=1S/C5H5N/c1-2-4-6-5-3-1/h1-5H/i4D</td>\n",
       "      <td>error</td>\n",
       "    </tr>\n",
       "    <tr>\n",
       "      <th>3</th>\n",
       "      <td>d92f14b46849</td>\n",
       "      <td>InChI=1S/C2F3NO2S/c3-2(4,5)9(6,7)1-6</td>\n",
       "      <td>error</td>\n",
       "    </tr>\n",
       "    <tr>\n",
       "      <th>4</th>\n",
       "      <td>e5b5c145b588</td>\n",
       "      <td>InChI=1S/C2BrCl4NO/c3-1(4,5)2(6,7)8-9</td>\n",
       "      <td>error</td>\n",
       "    </tr>\n",
       "  </tbody>\n",
       "</table>\n",
       "</div>"
      ],
      "text/plain": [
       "       image_id                                    InChI  event\n",
       "0  e5dca4c9bebd                 InChI=1S/CH4O/c1-2-3/h4H  error\n",
       "1  c2d86f19e139     InChI=1S/C3HCl3NS/c4-1-2(5)8-3(6)7-1  error\n",
       "2  2f939a72af1e  InChI=1S/C5H5N/c1-2-4-6-5-3-1/h1-5H/i4D  error\n",
       "3  d92f14b46849     InChI=1S/C2F3NO2S/c3-2(4,5)9(6,7)1-6  error\n",
       "4  e5b5c145b588    InChI=1S/C2BrCl4NO/c3-1(4,5)2(6,7)8-9  error"
      ]
     },
     "metadata": {},
     "output_type": "display_data"
    },
    {
     "data": {
      "text/plain": [
       "(1616107, 3)"
      ]
     },
     "execution_count": 2,
     "metadata": {},
     "output_type": "execute_result"
    }
   ],
   "source": [
    "##### IMPORT PREDICTIONS\n",
    "\n",
    "sub_df = pd.read_csv(orig_path)\n",
    "sub_df['event'] = 'error'\n",
    "sub_df.to_csv('submission_orig.csv', index = False)\n",
    "display(sub_df.head())\n",
    "sub_df.shape"
   ]
  },
  {
   "cell_type": "code",
   "execution_count": 3,
   "metadata": {
    "execution": {
     "iopub.execute_input": "2021-06-03T20:46:10.293863Z",
     "iopub.status.busy": "2021-06-03T20:46:10.292727Z",
     "iopub.status.idle": "2021-06-03T20:46:10.296861Z",
     "shell.execute_reply": "2021-06-03T20:46:10.296219Z"
    },
    "papermill": {
     "duration": 0.143113,
     "end_time": "2021-06-03T20:46:10.297010",
     "exception": false,
     "start_time": "2021-06-03T20:46:10.153897",
     "status": "completed"
    },
    "tags": []
   },
   "outputs": [
    {
     "name": "stdout",
     "output_type": "stream",
     "text": [
      "Writing normalize_inchis.py\n"
     ]
    }
   ],
   "source": [
    "##### NORMALIZATION SCRIPT\n",
    "\n",
    "'''Adapted https://www.kaggle.com/nofreewill/normalize-your-predictions'''\n",
    "\n",
    "%%writefile normalize_inchis.py\n",
    "\n",
    "# packages\n",
    "from tqdm import tqdm\n",
    "from rdkit import Chem\n",
    "from rdkit import RDLogger\n",
    "RDLogger.DisableLog('rdApp.*')\n",
    "from pathlib import Path\n",
    "\n",
    "# normalization\n",
    "def normalize_inchi(inchi):\n",
    "    try:\n",
    "        mol = Chem.MolFromInchi(inchi)\n",
    "        return (inchi, 'none') if (mol is None) else (Chem.MolToInchi(mol), 'valid')     \n",
    "    except: return (inchi, 'error')\n",
    "\n",
    "# paths\n",
    "orig_path = Path('submission_orig.csv')\n",
    "norm_path = Path('submission_norm.csv')\n",
    "\n",
    "# do the job\n",
    "N = norm_path.read_text().count('\\n') if norm_path.exists() else 0\n",
    "print(N, 'number of predictions already normalized')\n",
    "\n",
    "# open files\n",
    "r = open(str(orig_path), 'r')\n",
    "w = open(str(norm_path), 'a', buffering = 1)\n",
    "\n",
    "for _ in range(N):\n",
    "    r.readline()\n",
    "    \n",
    "line = r.readline()\n",
    "w.write(line)\n",
    "\n",
    "# loop through lines\n",
    "for line in tqdm(r):\n",
    "    splits   = line[:-1].split(',')\n",
    "    image_id = splits[0]\n",
    "    inchi    = ','.join(splits[1:-1]).replace('\"','')\n",
    "    inchi_norm, inchi_event = normalize_inchi(inchi)\n",
    "    w.write(f'{image_id},\"{inchi_norm}\",\"{inchi_event}\"\\n')\n",
    "\n",
    "# close files\n",
    "r.close()\n",
    "w.close()"
   ]
  },
  {
   "source": [
    "# NORMALIZATION"
   ],
   "cell_type": "markdown",
   "metadata": {}
  },
  {
   "cell_type": "code",
   "execution_count": 4,
   "metadata": {
    "execution": {
     "iopub.execute_input": "2021-06-03T20:46:10.533987Z",
     "iopub.status.busy": "2021-06-03T20:46:10.526475Z",
     "iopub.status.idle": "2021-06-03T21:09:32.077795Z",
     "shell.execute_reply": "2021-06-03T21:09:32.077186Z"
    },
    "papermill": {
     "duration": 1401.667432,
     "end_time": "2021-06-03T21:09:32.077956",
     "exception": false,
     "start_time": "2021-06-03T20:46:10.410524",
     "status": "completed"
    },
    "tags": []
   },
   "outputs": [
    {
     "name": "stdout",
     "output_type": "stream",
     "text": [
      "0 number of predictions already normalized\r\n",
      "212042it [02:14, 1477.66it/s]/bin/bash: line 1:  9529 Segmentation fault      (core dumped) python normalize_inchis.py\r\n",
      "212165 number of predictions already normalized\r\n",
      "90894it [01:03, 1404.06it/s]/bin/bash: line 1:  9531 Segmentation fault      (core dumped) python normalize_inchis.py\r\n",
      "303201 number of predictions already normalized\r\n",
      "316858it [04:01, 1247.24it/s]/bin/bash: line 1:  9533 Segmentation fault      (core dumped) python normalize_inchis.py\r\n",
      "620118 number of predictions already normalized\r\n",
      "84596it [01:09, 1205.33it/s]/bin/bash: line 1:  9535 Segmentation fault      (core dumped) python normalize_inchis.py\r\n",
      "704825 number of predictions already normalized\r\n",
      "34335it [00:28, 1189.45it/s]/bin/bash: line 1:  9537 Segmentation fault      (core dumped) python normalize_inchis.py\r\n",
      "739261 number of predictions already normalized\r\n",
      "46656it [00:39, 1138.14it/s]/bin/bash: line 1:  9539 Segmentation fault      (core dumped) python normalize_inchis.py\r\n",
      "786035 number of predictions already normalized\r\n",
      "47505it [00:41, 1125.72it/s]/bin/bash: line 1:  9541 Segmentation fault      (core dumped) python normalize_inchis.py\r\n",
      "833575 number of predictions already normalized\r\n",
      "16231it [00:14, 1129.19it/s]/bin/bash: line 1:  9543 Segmentation fault      (core dumped) python normalize_inchis.py\r\n",
      "849916 number of predictions already normalized\r\n",
      "84206it [01:15, 1030.46it/s]/bin/bash: line 1:  9545 Segmentation fault      (core dumped) python normalize_inchis.py\r\n",
      "934125 number of predictions already normalized\r\n",
      "51546it [00:47, 1075.49it/s]/bin/bash: line 1:  9547 Segmentation fault      (core dumped) python normalize_inchis.py\r\n",
      "985777 number of predictions already normalized\r\n",
      "99406it [01:34, 1040.68it/s]/bin/bash: line 1:  9549 Segmentation fault      (core dumped) python normalize_inchis.py\r\n",
      "1085244 number of predictions already normalized\r\n",
      "19477it [00:18, 1068.84it/s]/bin/bash: line 1:  9551 Segmentation fault      (core dumped) python normalize_inchis.py\r\n",
      "1104759 number of predictions already normalized\r\n",
      "20651it [00:20, 1026.83it/s]/bin/bash: line 1:  9553 Segmentation fault      (core dumped) python normalize_inchis.py\r\n",
      "1125460 number of predictions already normalized\r\n",
      "40339it [00:39, 1023.17it/s]/bin/bash: line 1:  9555 Segmentation fault      (core dumped) python normalize_inchis.py\r\n",
      "1165815 number of predictions already normalized\r\n",
      "68535it [01:07, 1015.15it/s]/bin/bash: line 1:  9557 Segmentation fault      (core dumped) python normalize_inchis.py\r\n",
      "1234358 number of predictions already normalized\r\n",
      "5186it [00:05, 985.49it/s]/bin/bash: line 1:  9559 Segmentation fault      (core dumped) python normalize_inchis.py\r\n",
      "1239549 number of predictions already normalized\r\n",
      "88719it [01:29, 971.83it/s]/bin/bash: line 1:  9561 Segmentation fault      (core dumped) python normalize_inchis.py\r\n",
      "1328284 number of predictions already normalized\r\n",
      "48884it [00:49, 982.23it/s]/bin/bash: line 1:  9563 Segmentation fault      (core dumped) python normalize_inchis.py\r\n",
      "1377191 number of predictions already normalized\r\n",
      "6153it [00:06, 1005.67it/s]/bin/bash: line 1:  9565 Segmentation fault      (core dumped) python normalize_inchis.py\r\n",
      "1383446 number of predictions already normalized\r\n",
      "27833it [00:28, 982.80it/s]/bin/bash: line 1:  9567 Segmentation fault      (core dumped) python normalize_inchis.py\r\n",
      "1411367 number of predictions already normalized\r\n",
      "18848it [00:19, 958.39it/s]free(): invalid next size (fast)\r\n",
      "/bin/bash: line 1:  9569 Aborted                 (core dumped) python normalize_inchis.py\r\n",
      "1430260 number of predictions already normalized\r\n",
      "19167it [00:19, 999.58it/s] /bin/bash: line 1:  9571 Segmentation fault      (core dumped) python normalize_inchis.py\r\n",
      "1449501 number of predictions already normalized\r\n",
      "8067it [00:08, 970.87it/s]/bin/bash: line 1:  9573 Segmentation fault      (core dumped) python normalize_inchis.py\r\n",
      "1457626 number of predictions already normalized\r\n",
      "23180it [00:23, 1018.41it/s]/bin/bash: line 1:  9575 Segmentation fault      (core dumped) python normalize_inchis.py\r\n",
      "1480881 number of predictions already normalized\r\n",
      "8365it [00:08, 996.56it/s] /bin/bash: line 1:  9577 Segmentation fault      (core dumped) python normalize_inchis.py\r\n",
      "1489286 number of predictions already normalized\r\n",
      "7092it [00:07, 985.07it/s]/bin/bash: line 1:  9579 Segmentation fault      (core dumped) python normalize_inchis.py\r\n",
      "1496442 number of predictions already normalized\r\n",
      "19769it [00:19, 1070.25it/s]/bin/bash: line 1:  9581 Segmentation fault      (core dumped) python normalize_inchis.py\r\n",
      "1516212 number of predictions already normalized\r\n",
      "1826it [00:01, 1027.32it/s]/bin/bash: line 1:  9583 Segmentation fault      (core dumped) python normalize_inchis.py\r\n",
      "1518094 number of predictions already normalized\r\n",
      "1938it [00:01, 981.90it/s]/bin/bash: line 1:  9585 Segmentation fault      (core dumped) python normalize_inchis.py\r\n",
      "1520136 number of predictions already normalized\r\n",
      "4142it [00:04, 997.10it/s]/bin/bash: line 1:  9587 Segmentation fault      (core dumped) python normalize_inchis.py\r\n",
      "1524322 number of predictions already normalized\r\n",
      "3603it [00:03, 1047.70it/s]/bin/bash: line 1:  9589 Segmentation fault      (core dumped) python normalize_inchis.py\r\n",
      "1528003 number of predictions already normalized\r\n",
      "6281it [00:06, 1023.07it/s]/bin/bash: line 1:  9591 Segmentation fault      (core dumped) python normalize_inchis.py\r\n",
      "1534307 number of predictions already normalized\r\n",
      "10310it [00:09, 1043.06it/s]/bin/bash: line 1:  9593 Segmentation fault      (core dumped) python normalize_inchis.py\r\n",
      "1544681 number of predictions already normalized\r\n",
      "7850it [00:07, 1013.91it/s]/bin/bash: line 1:  9595 Segmentation fault      (core dumped) python normalize_inchis.py\r\n",
      "1552567 number of predictions already normalized\r\n",
      "12840it [00:11, 1032.97it/s]/bin/bash: line 1:  9597 Segmentation fault      (core dumped) python normalize_inchis.py\r\n",
      "1565431 number of predictions already normalized\r\n",
      "35575it [00:28, 1499.84it/s]/bin/bash: line 1:  9599 Segmentation fault      (core dumped) python normalize_inchis.py\r\n",
      "1601073 number of predictions already normalized\r\n",
      "5483it [00:03, 1800.72it/s]/bin/bash: line 1:  9601 Segmentation fault      (core dumped) python normalize_inchis.py\r\n",
      "1606634 number of predictions already normalized\r\n",
      "9473it [00:02, 3558.35it/s] \r\n"
     ]
    }
   ],
   "source": [
    "##### RUN THE SCRIPT\n",
    "\n",
    "!while [ 1 ]; do python normalize_inchis.py && break; done"
   ]
  },
  {
   "cell_type": "code",
   "execution_count": 5,
   "metadata": {
    "execution": {
     "iopub.execute_input": "2021-06-03T21:09:40.273192Z",
     "iopub.status.busy": "2021-06-03T21:09:40.272549Z",
     "iopub.status.idle": "2021-06-03T21:09:44.743988Z",
     "shell.execute_reply": "2021-06-03T21:09:44.743435Z"
    },
    "papermill": {
     "duration": 8.593824,
     "end_time": "2021-06-03T21:09:44.744129",
     "exception": false,
     "start_time": "2021-06-03T21:09:36.150305",
     "status": "completed"
    },
    "tags": []
   },
   "outputs": [
    {
     "data": {
      "text/plain": [
       "valid    1424052\n",
       "none      192018\n",
       "error         37\n",
       "Name: event, dtype: int64"
      ]
     },
     "execution_count": 5,
     "metadata": {},
     "output_type": "execute_result"
    }
   ],
   "source": [
    "##### CHECK PREDICTIONS\n",
    "\n",
    "norm_path   = Path('submission_norm.csv')\n",
    "sub_norm_df = pd.read_csv(norm_path)\n",
    "sub_norm_df['event'].value_counts()"
   ]
  },
  {
   "cell_type": "raw",
   "metadata": {
    "papermill": {
     "duration": 4.180768,
     "end_time": "2021-06-03T21:09:53.053126",
     "exception": false,
     "start_time": "2021-06-03T21:09:48.872358",
     "status": "completed"
    },
    "tags": []
   },
   "source": [
    "sub_df = pd.read_csv(orig_path)\n",
    "b = sub_df.iloc[sub_norm_df.loc[sub_norm_df['event'] == 'error'].index].reset_index(drop = True)\n",
    "a = sub_norm_df.loc[sub_norm_df['event'] == 'error'].reset_index(drop = True)"
   ]
  },
  {
   "cell_type": "raw",
   "metadata": {
    "papermill": {
     "duration": 4.124303,
     "end_time": "2021-06-03T21:10:01.205723",
     "exception": false,
     "start_time": "2021-06-03T21:09:57.081420",
     "status": "completed"
    },
    "tags": []
   },
   "source": [
    "print(a['InChI'][0])\n",
    "print(b['InChI'][0])"
   ]
  },
  {
   "cell_type": "raw",
   "metadata": {
    "papermill": {
     "duration": 4.079559,
     "end_time": "2021-06-03T21:10:09.340180",
     "exception": false,
     "start_time": "2021-06-03T21:10:05.260621",
     "status": "completed"
    },
    "tags": []
   },
   "source": [
    "(a['InChI'] != b['InChI']).sum()"
   ]
  },
  {
   "cell_type": "code",
   "execution_count": 6,
   "metadata": {
    "execution": {
     "iopub.execute_input": "2021-06-03T21:10:17.484115Z",
     "iopub.status.busy": "2021-06-03T21:10:17.483094Z",
     "iopub.status.idle": "2021-06-03T21:15:16.839309Z",
     "shell.execute_reply": "2021-06-03T21:15:16.838753Z"
    },
    "papermill": {
     "duration": 303.39697,
     "end_time": "2021-06-03T21:15:16.839468",
     "exception": false,
     "start_time": "2021-06-03T21:10:13.442498",
     "status": "completed"
    },
    "tags": []
   },
   "outputs": [
    {
     "name": "stderr",
     "output_type": "stream",
     "text": [
      "100%|██████████| 1616107/1616107 [04:50<00:00, 5560.83it/s]"
     ]
    },
    {
     "name": "stdout",
     "output_type": "stream",
     "text": [
      "0.15851858818753956\n"
     ]
    },
    {
     "name": "stderr",
     "output_type": "stream",
     "text": [
      "\n"
     ]
    }
   ],
   "source": [
    "##### CHECK LEVENSTAIN GAIN\n",
    "\n",
    "# paths\n",
    "orig_path = Path('submission_orig.csv')\n",
    "norm_path = Path('submission_norm.csv')\n",
    "\n",
    "# read preds\n",
    "sub_df      = pd.read_csv(orig_path)\n",
    "sub_norm_df = pd.read_csv(norm_path)\n",
    "\n",
    "lev = 0\n",
    "N   = len(sub_df)\n",
    "\n",
    "# compute distances\n",
    "for i in tqdm(range(N)):\n",
    "    inchi, inchi_norm = sub_df.iloc[i]['InChI'], sub_norm_df.iloc[i]['InChI']\n",
    "    lev += Levenshtein.distance(inchi, inchi_norm)\n",
    "\n",
    "print(lev/N)"
   ]
  }
 ],
 "metadata": {
  "kernelspec": {
   "display_name": "Python 3",
   "language": "python",
   "name": "python3"
  },
  "language_info": {
   "codemirror_mode": {
    "name": "ipython",
    "version": 3
   },
   "file_extension": ".py",
   "mimetype": "text/x-python",
   "name": "python",
   "nbconvert_exporter": "python",
   "pygments_lexer": "ipython3",
   "version": "3.7.9"
  },
  "papermill": {
   "default_parameters": {},
   "duration": 1861.568212,
   "end_time": "2021-06-03T21:15:23.021290",
   "environment_variables": {},
   "exception": null,
   "input_path": "__notebook__.ipynb",
   "output_path": "__notebook__.ipynb",
   "parameters": {},
   "start_time": "2021-06-03T20:44:21.453078",
   "version": "2.2.2"
  }
 },
 "nbformat": 4,
 "nbformat_minor": 4
}