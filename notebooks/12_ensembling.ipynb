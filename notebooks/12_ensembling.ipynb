{
 "cells": [
  {
   "cell_type": "markdown",
   "id": "driving-profession",
   "metadata": {
    "papermill": {
     "duration": 0.012408,
     "end_time": "2021-06-04T12:36:41.734037",
     "exception": false,
     "start_time": "2021-06-04T12:36:41.721629",
     "status": "completed"
    },
    "tags": []
   },
   "source": [
    "# SUMMARY\n",
    "\n",
    "This notebook reproduces my best submission that scores **1.31** on the private LB and reaches the **47th place**. The notebook implements ensemble of CNN-LSTM models using model predictions saved as Kaggle datasets. A detailed summary of the solution is published [in this discussion topic](https://www.kaggle.com/c/bms-molecular-translation/discussion/243845). The table with the main model parameters and CV performance (before beam searchg and normalization) is provided below.\n",
    "\n",
    "![models](https://i.postimg.cc/cLrTp1Pc/Screen-2021-06-04-at-10-17-02.jpg)"
   ]
  },
  {
   "cell_type": "markdown",
   "id": "disciplinary-intelligence",
   "metadata": {
    "papermill": {
     "duration": 0.011469,
     "end_time": "2021-06-04T12:36:41.758306",
     "exception": false,
     "start_time": "2021-06-04T12:36:41.746837",
     "status": "completed"
    },
    "tags": []
   },
   "source": [
    "# PREPARATIONS"
   ]
  },
  {
   "cell_type": "code",
   "execution_count": 1,
   "id": "typical-mustang",
   "metadata": {
    "_cell_guid": "b1076dfc-b9ad-4769-8c92-a6c4dae69d19",
    "_uuid": "8f2839f25d086af736a60e9eeb907d3b93b6e0e5",
    "execution": {
     "iopub.execute_input": "2021-06-04T12:36:41.785980Z",
     "iopub.status.busy": "2021-06-04T12:36:41.784831Z",
     "iopub.status.idle": "2021-06-04T12:36:41.788607Z",
     "shell.execute_reply": "2021-06-04T12:36:41.789068Z",
     "shell.execute_reply.started": "2021-06-04T12:36:14.854831Z"
    },
    "papermill": {
     "duration": 0.019127,
     "end_time": "2021-06-04T12:36:41.789295",
     "exception": false,
     "start_time": "2021-06-04T12:36:41.770168",
     "status": "completed"
    },
    "tags": []
   },
   "outputs": [],
   "source": [
    "##### LIBRARIES\n",
    "\n",
    "import numpy as np \n",
    "import pandas as pd \n",
    "from tqdm import tqdm "
   ]
  },
  {
   "cell_type": "markdown",
   "id": "automated-monthly",
   "metadata": {
    "papermill": {
     "duration": 0.011535,
     "end_time": "2021-06-04T12:36:41.812568",
     "exception": false,
     "start_time": "2021-06-04T12:36:41.801033",
     "status": "completed"
    },
    "tags": []
   },
   "source": [
    "Below we define a list with seven base models. For each of these models, test molecule predictions are stored as Kaggle datasets after beam-search with `k = 5` (thanks @tugstugi) and `RDKit`-based normalization (thanks @nofreewill). The models are sorted by their performance after beam search and normalization in the ascending order (the first model performs best)."
   ]
  },
  {
   "cell_type": "code",
   "execution_count": 2,
   "id": "understanding-somewhere",
   "metadata": {
    "execution": {
     "iopub.execute_input": "2021-06-04T12:36:41.838891Z",
     "iopub.status.busy": "2021-06-04T12:36:41.838294Z",
     "iopub.status.idle": "2021-06-04T12:36:41.841898Z",
     "shell.execute_reply": "2021-06-04T12:36:41.842413Z",
     "shell.execute_reply.started": "2021-06-04T12:36:14.861034Z"
    },
    "papermill": {
     "duration": 0.018387,
     "end_time": "2021-06-04T12:36:41.842572",
     "exception": false,
     "start_time": "2021-06-04T12:36:41.824185",
     "status": "completed"
    },
    "tags": []
   },
   "outputs": [],
   "source": [
    "##### BASE MODELS\n",
    "\n",
    "model_list = ['/kaggle/input/bms-norm-v22/submission_norm.csv',\n",
    "              '/kaggle/input/bms-norm-v17/submission_norm.csv',\n",
    "              '/kaggle/input/bms-normalization-v21/submission_norm.csv',\n",
    "              '/kaggle/input/bms-normalization-v2733/submission_norm.csv',\n",
    "              '/kaggle/input/bms-normalization-v20/submission_norm.csv',\n",
    "              '/kaggle/input/bms-normalization-v6/submission_norm.csv',\n",
    "              '/kaggle/input/bms-normalization-public/submission_norm.csv']"
   ]
  },
  {
   "cell_type": "code",
   "execution_count": 3,
   "id": "seven-stone",
   "metadata": {
    "execution": {
     "iopub.execute_input": "2021-06-04T12:36:41.868718Z",
     "iopub.status.busy": "2021-06-04T12:36:41.868124Z",
     "iopub.status.idle": "2021-06-04T12:37:52.607301Z",
     "shell.execute_reply": "2021-06-04T12:37:52.606453Z"
    },
    "papermill": {
     "duration": 70.753374,
     "end_time": "2021-06-04T12:37:52.607460",
     "exception": false,
     "start_time": "2021-06-04T12:36:41.854086",
     "status": "completed"
    },
    "tags": []
   },
   "outputs": [
    {
     "name": "stdout",
     "output_type": "stream",
     "text": [
      "- /kaggle/input/bms-norm-v22/submission_norm.csv: (1616107, 3)\n",
      "- /kaggle/input/bms-norm-v17/submission_norm.csv: (1616107, 3)\n",
      "- /kaggle/input/bms-normalization-v21/submission_norm.csv: (1616107, 3)\n",
      "- /kaggle/input/bms-normalization-v2733/submission_norm.csv: (1616107, 3)\n",
      "- /kaggle/input/bms-normalization-v20/submission_norm.csv: (1616107, 3)\n",
      "- /kaggle/input/bms-normalization-v6/submission_norm.csv: (1616107, 3)\n",
      "- /kaggle/input/bms-normalization-public/submission_norm.csv: (1616107, 3)\n"
     ]
    }
   ],
   "source": [
    "##### PREPARE MODEL PREDICTIONS\n",
    "\n",
    "models = []\n",
    "\n",
    "for model in model_list:\n",
    "    sub = pd.read_csv(model)\n",
    "    sub = sub.sort_values('image_id').reset_index(drop = True)\n",
    "    print('- {}: {}'.format(model, sub.shape))\n",
    "    models.append(sub)"
   ]
  },
  {
   "cell_type": "markdown",
   "id": "educated-trigger",
   "metadata": {
    "papermill": {
     "duration": 0.014453,
     "end_time": "2021-06-04T12:37:52.635324",
     "exception": false,
     "start_time": "2021-06-04T12:37:52.620871",
     "status": "completed"
    },
    "tags": []
   },
   "source": [
    "I also import another model that produces partial predictions for 273k molecules that proved to be more challenging to translate in my previous experiments. The predictions are done using a beam search with a larger `k`."
   ]
  },
  {
   "cell_type": "code",
   "execution_count": 4,
   "id": "fossil-behavior",
   "metadata": {
    "execution": {
     "iopub.execute_input": "2021-06-04T12:37:52.666980Z",
     "iopub.status.busy": "2021-06-04T12:37:52.666360Z",
     "iopub.status.idle": "2021-06-04T12:37:54.449688Z",
     "shell.execute_reply": "2021-06-04T12:37:54.448906Z"
    },
    "papermill": {
     "duration": 1.801381,
     "end_time": "2021-06-04T12:37:54.449875",
     "exception": false,
     "start_time": "2021-06-04T12:37:52.648494",
     "status": "completed"
    },
    "tags": []
   },
   "outputs": [
    {
     "name": "stdout",
     "output_type": "stream",
     "text": [
      "(273054, 3)\n"
     ]
    }
   ],
   "source": [
    "##### IMPORT PARTIAL PREDICTIONS\n",
    "\n",
    "part_sub = pd.read_csv('/kaggle/input/bms-normalization-bad-27/submission_norm.csv')\n",
    "part_sub = part_sub.sort_values('image_id').reset_index(drop = True)\n",
    "print(part_sub.shape)"
   ]
  },
  {
   "cell_type": "markdown",
   "id": "sufficient-aviation",
   "metadata": {
    "papermill": {
     "duration": 0.014188,
     "end_time": "2021-06-04T12:37:54.482867",
     "exception": false,
     "start_time": "2021-06-04T12:37:54.468679",
     "status": "completed"
    },
    "tags": []
   },
   "source": [
    "Following the idea of @nofreewill, I store three possible events in the process of InChI normalization: `['valid', 'none', 'error']`. Value `valid` means that RDKit was able to convert prediction to a valid InChI string.  "
   ]
  },
  {
   "cell_type": "code",
   "execution_count": 5,
   "id": "civil-scholar",
   "metadata": {
    "execution": {
     "iopub.execute_input": "2021-06-04T12:37:54.658872Z",
     "iopub.status.busy": "2021-06-04T12:37:54.657973Z",
     "iopub.status.idle": "2021-06-04T12:37:55.020991Z",
     "shell.execute_reply": "2021-06-04T12:37:55.021685Z"
    },
    "papermill": {
     "duration": 0.525014,
     "end_time": "2021-06-04T12:37:55.021898",
     "exception": false,
     "start_time": "2021-06-04T12:37:54.496884",
     "status": "completed"
    },
    "tags": []
   },
   "outputs": [
    {
     "data": {
      "text/html": [
       "<div>\n",
       "<style scoped>\n",
       "    .dataframe tbody tr th:only-of-type {\n",
       "        vertical-align: middle;\n",
       "    }\n",
       "\n",
       "    .dataframe tbody tr th {\n",
       "        vertical-align: top;\n",
       "    }\n",
       "\n",
       "    .dataframe thead th {\n",
       "        text-align: right;\n",
       "    }\n",
       "</style>\n",
       "<table border=\"1\" class=\"dataframe\">\n",
       "  <thead>\n",
       "    <tr style=\"text-align: right;\">\n",
       "      <th></th>\n",
       "      <th>image_id</th>\n",
       "      <th>InChI</th>\n",
       "      <th>event</th>\n",
       "    </tr>\n",
       "  </thead>\n",
       "  <tbody>\n",
       "    <tr>\n",
       "      <th>0</th>\n",
       "      <td>00000d2a601c</td>\n",
       "      <td>InChI=1S/C10H14BrN5S/c1-6-10(11)9(16(3)14-6)4-...</td>\n",
       "      <td>valid</td>\n",
       "    </tr>\n",
       "    <tr>\n",
       "      <th>1</th>\n",
       "      <td>00001f7fc849</td>\n",
       "      <td>InChI=1S/C14H18ClN3/c1-2-7-16-9-13-10-17-14(18...</td>\n",
       "      <td>valid</td>\n",
       "    </tr>\n",
       "    <tr>\n",
       "      <th>2</th>\n",
       "      <td>000037687605</td>\n",
       "      <td>InChI=1S/C16H13BrN2O/c1-11(20)12-6-7-13(9-18)1...</td>\n",
       "      <td>valid</td>\n",
       "    </tr>\n",
       "    <tr>\n",
       "      <th>3</th>\n",
       "      <td>00004b6d55b6</td>\n",
       "      <td>InChI=1S/C14H19FN4O/c1-14(2,3)12-13(16)17-18-1...</td>\n",
       "      <td>valid</td>\n",
       "    </tr>\n",
       "    <tr>\n",
       "      <th>4</th>\n",
       "      <td>00004df0fe53</td>\n",
       "      <td>InChI=1S/C9H12O2/c1-4-5-2-6-7(3-5)11-9(10)8(4)...</td>\n",
       "      <td>valid</td>\n",
       "    </tr>\n",
       "  </tbody>\n",
       "</table>\n",
       "</div>"
      ],
      "text/plain": [
       "       image_id                                              InChI  event\n",
       "0  00000d2a601c  InChI=1S/C10H14BrN5S/c1-6-10(11)9(16(3)14-6)4-...  valid\n",
       "1  00001f7fc849  InChI=1S/C14H18ClN3/c1-2-7-16-9-13-10-17-14(18...  valid\n",
       "2  000037687605  InChI=1S/C16H13BrN2O/c1-11(20)12-6-7-13(9-18)1...  valid\n",
       "3  00004b6d55b6  InChI=1S/C14H19FN4O/c1-14(2,3)12-13(16)17-18-1...  valid\n",
       "4  00004df0fe53  InChI=1S/C9H12O2/c1-4-5-2-6-7(3-5)11-9(10)8(4)...  valid"
      ]
     },
     "metadata": {},
     "output_type": "display_data"
    },
    {
     "name": "stdout",
     "output_type": "stream",
     "text": [
      "\n",
      "Events:\n"
     ]
    },
    {
     "data": {
      "text/plain": [
       "valid    1495604\n",
       "none      120478\n",
       "error         25\n",
       "Name: event, dtype: int64"
      ]
     },
     "metadata": {},
     "output_type": "display_data"
    }
   ],
   "source": [
    "##### CHECK PREDICTION FORMAT\n",
    "\n",
    "sub = models[0].copy()\n",
    "display(sub.head())\n",
    "print('\\nEvents:')\n",
    "display(sub['event'].value_counts())"
   ]
  },
  {
   "cell_type": "markdown",
   "id": "adverse-happening",
   "metadata": {
    "papermill": {
     "duration": 0.014885,
     "end_time": "2021-06-04T12:37:55.053047",
     "exception": false,
     "start_time": "2021-06-04T12:37:55.038162",
     "status": "completed"
    },
    "tags": []
   },
   "source": [
    "# ENSEMBLING\n",
    "\n",
    "The ensembling is done in the following way:\n",
    "1. If 4/7 models have the same output, set the final prediction to this mode value.\n",
    "2. Else:\n",
    "    - go through each model starting from the best-performing one and set prediction to a first model with valid output\n",
    "    - if there are now valid outputs, set prediction to the output of the lowest-CV model\n",
    "    - if output of the partial model is available and valid, overwrite prediction for this molecule"
   ]
  },
  {
   "cell_type": "code",
   "execution_count": 6,
   "id": "finished-springfield",
   "metadata": {
    "execution": {
     "iopub.execute_input": "2021-06-04T12:37:55.095182Z",
     "iopub.status.busy": "2021-06-04T12:37:55.094562Z",
     "iopub.status.idle": "2021-06-04T13:57:25.397615Z",
     "shell.execute_reply": "2021-06-04T13:57:25.398342Z"
    },
    "papermill": {
     "duration": 4770.330623,
     "end_time": "2021-06-04T13:57:25.398627",
     "exception": false,
     "start_time": "2021-06-04T12:37:55.068004",
     "status": "completed"
    },
    "tags": []
   },
   "outputs": [
    {
     "name": "stderr",
     "output_type": "stream",
     "text": [
      "100%|██████████| 1616107/1616107 [1:19:30<00:00, 338.79it/s]\n"
     ]
    }
   ],
   "source": [
    "##### ENSEMBLING\n",
    "\n",
    "# placeholders\n",
    "num_equals  = []\n",
    "model_preds = []\n",
    "\n",
    "# loop through test molecules\n",
    "for i in tqdm(range(len(sub))):\n",
    "    \n",
    "    # extract base model predictions and mode\n",
    "    preds     = [model.iloc[i]['InChI'] for model in models]\n",
    "    mode      = max(set(preds), key = preds.count)\n",
    "    num_equal = preds.count(mode)\n",
    "    num_equals.append(num_equal)\n",
    "    \n",
    "    # set prediction to mode\n",
    "    if num_equal >= 4:\n",
    "        sub.loc[i, 'InChI'] = mode\n",
    "        model_preds.append('mode')\n",
    "        \n",
    "    else:\n",
    "        \n",
    "        # look for valid pred from all models\n",
    "        valid_pred = False\n",
    "        for m in range(len(models)):\n",
    "            if models[m].loc[i, 'event'] == 'valid':\n",
    "                sub.loc[i, 'InChI'] = models[m].loc[i, 'InChI']\n",
    "                model_preds.append(model_list[m])\n",
    "                valid_pred = True\n",
    "                break\n",
    "                \n",
    "        # set preds to lowest-CV model\n",
    "        if not valid_pred:\n",
    "            sub.loc[i, 'InChI'] = models[0].loc[i, 'InChI']\n",
    "            model_preds.append(model_list[0])\n",
    "                \n",
    "        # set preds to better model if possible\n",
    "        if not valid_pred:\n",
    "            image_id = sub.loc[i, 'image_id']\n",
    "            if image_id in list(part_sub['image_id'].values):\n",
    "                if part_sub.loc[part_sub['image_id'] == image_id]['event'].item() == 'valid':\n",
    "                    sub.loc[i, 'InChI'] = part_sub.loc[part_sub['image_id'] == image_id, 'InChI'].item()\n",
    "                    model_preds.append('part_model')"
   ]
  },
  {
   "cell_type": "code",
   "execution_count": 7,
   "id": "senior-daily",
   "metadata": {
    "execution": {
     "iopub.execute_input": "2021-06-04T13:57:42.909237Z",
     "iopub.status.busy": "2021-06-04T13:57:42.908623Z",
     "iopub.status.idle": "2021-06-04T13:57:43.629119Z",
     "shell.execute_reply": "2021-06-04T13:57:43.628503Z"
    },
    "papermill": {
     "duration": 9.389183,
     "end_time": "2021-06-04T13:57:43.629249",
     "exception": false,
     "start_time": "2021-06-04T13:57:34.240066",
     "status": "completed"
    },
    "tags": []
   },
   "outputs": [
    {
     "data": {
      "text/plain": [
       "7    1014488\n",
       "6     202503\n",
       "5     122019\n",
       "4     109406\n",
       "3      71478\n",
       "1      50641\n",
       "2      45572\n",
       "dtype: int64"
      ]
     },
     "execution_count": 7,
     "metadata": {},
     "output_type": "execute_result"
    }
   ],
   "source": [
    "##### CHECK NO. EQUAL PREDS DISTRIBUTION\n",
    "\n",
    "pd.Series(num_equals).value_counts()"
   ]
  },
  {
   "cell_type": "markdown",
   "id": "acoustic-museum",
   "metadata": {
    "papermill": {
     "duration": 8.792747,
     "end_time": "2021-06-04T13:58:01.260962",
     "exception": false,
     "start_time": "2021-06-04T13:57:52.468215",
     "status": "completed"
    },
    "tags": []
   },
   "source": [
    "In many cases, our models agree quite well with each other."
   ]
  },
  {
   "cell_type": "code",
   "execution_count": 8,
   "id": "racial-psychiatry",
   "metadata": {
    "execution": {
     "iopub.execute_input": "2021-06-04T13:58:18.691397Z",
     "iopub.status.busy": "2021-06-04T13:58:18.690371Z",
     "iopub.status.idle": "2021-06-04T13:58:19.163597Z",
     "shell.execute_reply": "2021-06-04T13:58:19.162966Z"
    },
    "papermill": {
     "duration": 9.20722,
     "end_time": "2021-06-04T13:58:19.163732",
     "exception": false,
     "start_time": "2021-06-04T13:58:09.956512",
     "status": "completed"
    },
    "tags": []
   },
   "outputs": [
    {
     "data": {
      "text/plain": [
       "mode                                                          1448416\n",
       "/kaggle/input/bms-norm-v22/submission_norm.csv                 121351\n",
       "/kaggle/input/bms-norm-v17/submission_norm.csv                  18720\n",
       "/kaggle/input/bms-normalization-v21/submission_norm.csv         12606\n",
       "/kaggle/input/bms-normalization-v2733/submission_norm.csv        8409\n",
       "/kaggle/input/bms-normalization-v20/submission_norm.csv          3764\n",
       "part_model                                                       2605\n",
       "/kaggle/input/bms-normalization-v6/submission_norm.csv           1858\n",
       "/kaggle/input/bms-normalization-public/submission_norm.csv        983\n",
       "dtype: int64"
      ]
     },
     "execution_count": 8,
     "metadata": {},
     "output_type": "execute_result"
    }
   ],
   "source": [
    "##### CHECK MODEL PREDS DISTRIBUTION\n",
    "\n",
    "pd.Series(model_preds).value_counts()"
   ]
  },
  {
   "cell_type": "markdown",
   "id": "negative-undergraduate",
   "metadata": {
    "papermill": {
     "duration": 8.787922,
     "end_time": "2021-06-04T13:58:36.696370",
     "exception": false,
     "start_time": "2021-06-04T13:58:27.908448",
     "status": "completed"
    },
    "tags": []
   },
   "source": [
    "As expected, most predictions are coming from model `v22`. Very few molecules are translated by the last models in a row, suggesting that usually at least one of the models is able to provide valid edictions."
   ]
  },
  {
   "cell_type": "markdown",
   "id": "eastern-recording",
   "metadata": {
    "papermill": {
     "duration": 8.685086,
     "end_time": "2021-06-04T13:58:54.132321",
     "exception": false,
     "start_time": "2021-06-04T13:58:45.447235",
     "status": "completed"
    },
    "tags": []
   },
   "source": [
    "# SUBMISSION"
   ]
  },
  {
   "cell_type": "code",
   "execution_count": 9,
   "id": "cloudy-lucas",
   "metadata": {
    "execution": {
     "iopub.execute_input": "2021-06-04T13:59:11.947198Z",
     "iopub.status.busy": "2021-06-04T13:59:11.946569Z",
     "iopub.status.idle": "2021-06-04T13:59:23.434458Z",
     "shell.execute_reply": "2021-06-04T13:59:23.434969Z"
    },
    "papermill": {
     "duration": 20.593569,
     "end_time": "2021-06-04T13:59:23.435165",
     "exception": false,
     "start_time": "2021-06-04T13:59:02.841596",
     "status": "completed"
    },
    "tags": []
   },
   "outputs": [
    {
     "data": {
      "text/html": [
       "<div>\n",
       "<style scoped>\n",
       "    .dataframe tbody tr th:only-of-type {\n",
       "        vertical-align: middle;\n",
       "    }\n",
       "\n",
       "    .dataframe tbody tr th {\n",
       "        vertical-align: top;\n",
       "    }\n",
       "\n",
       "    .dataframe thead th {\n",
       "        text-align: right;\n",
       "    }\n",
       "</style>\n",
       "<table border=\"1\" class=\"dataframe\">\n",
       "  <thead>\n",
       "    <tr style=\"text-align: right;\">\n",
       "      <th></th>\n",
       "      <th>image_id</th>\n",
       "      <th>InChI</th>\n",
       "    </tr>\n",
       "  </thead>\n",
       "  <tbody>\n",
       "    <tr>\n",
       "      <th>0</th>\n",
       "      <td>00000d2a601c</td>\n",
       "      <td>InChI=1S/C10H14BrN5S/c1-6-10(11)9(16(3)14-6)4-...</td>\n",
       "    </tr>\n",
       "    <tr>\n",
       "      <th>1</th>\n",
       "      <td>00001f7fc849</td>\n",
       "      <td>InChI=1S/C14H18ClN3/c1-2-7-16-9-13-10-17-14(18...</td>\n",
       "    </tr>\n",
       "    <tr>\n",
       "      <th>2</th>\n",
       "      <td>000037687605</td>\n",
       "      <td>InChI=1S/C16H13BrN2O/c1-11(20)12-6-7-13(9-18)1...</td>\n",
       "    </tr>\n",
       "    <tr>\n",
       "      <th>3</th>\n",
       "      <td>00004b6d55b6</td>\n",
       "      <td>InChI=1S/C14H19FN4O/c1-14(2,3)12-13(16)17-18-1...</td>\n",
       "    </tr>\n",
       "    <tr>\n",
       "      <th>4</th>\n",
       "      <td>00004df0fe53</td>\n",
       "      <td>InChI=1S/C9H12O2/c1-4-5-2-6-7(3-5)11-9(10)8(4)...</td>\n",
       "    </tr>\n",
       "  </tbody>\n",
       "</table>\n",
       "</div>"
      ],
      "text/plain": [
       "       image_id                                              InChI\n",
       "0  00000d2a601c  InChI=1S/C10H14BrN5S/c1-6-10(11)9(16(3)14-6)4-...\n",
       "1  00001f7fc849  InChI=1S/C14H18ClN3/c1-2-7-16-9-13-10-17-14(18...\n",
       "2  000037687605  InChI=1S/C16H13BrN2O/c1-11(20)12-6-7-13(9-18)1...\n",
       "3  00004b6d55b6  InChI=1S/C14H19FN4O/c1-14(2,3)12-13(16)17-18-1...\n",
       "4  00004df0fe53  InChI=1S/C9H12O2/c1-4-5-2-6-7(3-5)11-9(10)8(4)..."
      ]
     },
     "execution_count": 9,
     "metadata": {},
     "output_type": "execute_result"
    }
   ],
   "source": [
    "##### EXPORT SUBMISSION\n",
    "\n",
    "sub = sub[['image_id', 'InChI']]\n",
    "sub.to_csv('submission.csv', index = False)\n",
    "sub.head()"
   ]
  }
 ],
 "metadata": {
  "kernelspec": {
   "display_name": "Python 3",
   "language": "python",
   "name": "python3"
  },
  "language_info": {
   "codemirror_mode": {
    "name": "ipython",
    "version": 3
   },
   "file_extension": ".py",
   "mimetype": "text/x-python",
   "name": "python",
   "nbconvert_exporter": "python",
   "pygments_lexer": "ipython3",
   "version": "3.7.9"
  },
  "papermill": {
   "default_parameters": {},
   "duration": 4980.043941,
   "end_time": "2021-06-04T13:59:36.004995",
   "environment_variables": {},
   "exception": null,
   "input_path": "__notebook__.ipynb",
   "output_path": "__notebook__.ipynb",
   "parameters": {},
   "start_time": "2021-06-04T12:36:35.961054",
   "version": "2.3.2"
  }
 },
 "nbformat": 4,
 "nbformat_minor": 5
}