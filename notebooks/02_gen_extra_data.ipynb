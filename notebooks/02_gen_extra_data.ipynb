{
 "cells": [
  {
   "source": [
    "# SUMMARY\n",
    "This notebook generates synthetic images based on `extra_approved_InChIs.csv` using RDKit. The code is hevaliy based on [this Kaggle notebook](https://www.kaggle.com/tuckerarrants/inchi-allowed-external-data)."
   ],
   "cell_type": "markdown",
   "metadata": {}
  },
  {
   "cell_type": "code",
   "execution_count": null,
   "metadata": {},
   "outputs": [],
   "source": [
    "##### OUTPUT IMAGE PATH\n",
    "\n",
    "OUTPUT_DIR = '../input/extra/'"
   ]
  },
  {
   "cell_type": "markdown",
   "metadata": {},
   "source": [
    "# PREPARATIONS"
   ]
  },
  {
   "cell_type": "code",
   "execution_count": 1,
   "metadata": {},
   "outputs": [],
   "source": [
    "##### PACKAGES\n",
    "\n",
    "!conda install -y -c rdkit rdkit\n",
    "\n",
    "import numpy as np\n",
    "import pandas as pd\n",
    "import re\n",
    "from tqdm.auto import tqdm\n",
    "tqdm.pandas()\n",
    "\n",
    "import torch\n",
    "from torch.utils.data import Dataset\n",
    "import cv2\n",
    "\n",
    "import rdkit.Chem as Chem\n",
    "\n",
    "from matplotlib import pyplot as plt\n",
    "%matplotlib inline\n",
    "\n",
    "import os\n",
    "import pickle"
   ]
  },
  {
   "cell_type": "code",
   "execution_count": null,
   "metadata": {},
   "outputs": [],
   "source": [
    "##### MODULES\n",
    "\n",
    "sys.path.append('../codes')\n",
    "from tokenizer import Tokenizer\n",
    "from preprocessing import split_form, split_form2, l_split, get_atom_counts, get_train_file_path"
   ]
  },
  {
   "cell_type": "markdown",
   "metadata": {},
   "source": [
    "# DATA PREP"
   ]
  },
  {
   "cell_type": "code",
   "execution_count": 5,
   "metadata": {},
   "outputs": [
    {
     "name": "stdout",
     "output_type": "stream",
     "text": [
      "(9998711, 1)\n"
     ]
    },
    {
     "data": {
      "text/html": [
       "<div>\n",
       "<style scoped>\n",
       "    .dataframe tbody tr th:only-of-type {\n",
       "        vertical-align: middle;\n",
       "    }\n",
       "\n",
       "    .dataframe tbody tr th {\n",
       "        vertical-align: top;\n",
       "    }\n",
       "\n",
       "    .dataframe thead th {\n",
       "        text-align: right;\n",
       "    }\n",
       "</style>\n",
       "<table border=\"1\" class=\"dataframe\">\n",
       "  <thead>\n",
       "    <tr style=\"text-align: right;\">\n",
       "      <th></th>\n",
       "      <th>InChI</th>\n",
       "    </tr>\n",
       "  </thead>\n",
       "  <tbody>\n",
       "    <tr>\n",
       "      <th>0</th>\n",
       "      <td>InChI=1S/C13H10Cl4O4/c1-20-13(21-2)11(16)5-6-8...</td>\n",
       "    </tr>\n",
       "    <tr>\n",
       "      <th>1</th>\n",
       "      <td>InChI=1S/C23H32O6Si/c1-20(2)25-15-19(27-20)22(...</td>\n",
       "    </tr>\n",
       "    <tr>\n",
       "      <th>2</th>\n",
       "      <td>InChI=1S/C24H16N4O3/c29-21-19-20(14-8-2-1-3-9-...</td>\n",
       "    </tr>\n",
       "    <tr>\n",
       "      <th>3</th>\n",
       "      <td>InChI=1S/C20H26N2O5/c1-9-14-11-7-13-19(8-21-3)...</td>\n",
       "    </tr>\n",
       "    <tr>\n",
       "      <th>4</th>\n",
       "      <td>InChI=1S/C14H12BrN/c15-8-3-1-7(2-4-8)12-9-5-10...</td>\n",
       "    </tr>\n",
       "  </tbody>\n",
       "</table>\n",
       "</div>"
      ],
      "text/plain": [
       "                                               InChI\n",
       "0  InChI=1S/C13H10Cl4O4/c1-20-13(21-2)11(16)5-6-8...\n",
       "1  InChI=1S/C23H32O6Si/c1-20(2)25-15-19(27-20)22(...\n",
       "2  InChI=1S/C24H16N4O3/c29-21-19-20(14-8-2-1-3-9-...\n",
       "3  InChI=1S/C20H26N2O5/c1-9-14-11-7-13-19(8-21-3)...\n",
       "4  InChI=1S/C14H12BrN/c15-8-3-1-7(2-4-8)12-9-5-10..."
      ]
     },
     "execution_count": 5,
     "metadata": {},
     "output_type": "execute_result"
    }
   ],
   "source": [
    "##### IMPORT INCHI FORMULAS\n",
    "\n",
    "train = pd.read_pickle('../input/train2.pkl')\n",
    "train['file_path'] = train['image_id'].apply(get_train_file_path)\n",
    "allowed_inchi = pd.read_csv('../input/extra_approved_InChIs.csv')\n",
    "print(allowed_inchi.shape)\n",
    "allowed_inchi.head()"
   ]
  },
  {
   "cell_type": "code",
   "execution_count": 6,
   "metadata": {},
   "outputs": [
    {
     "data": {
      "application/vnd.jupyter.widget-view+json": {
       "model_id": "fa88671f9d3940d5b6ffa0f8b51a3d2d",
       "version_major": 2,
       "version_minor": 0
      },
      "text/plain": [
       "  0%|          | 0/9998711 [00:00<?, ?it/s]"
      ]
     },
     "metadata": {},
     "output_type": "display_data"
    },
    {
     "name": "stdout",
     "output_type": "stream",
     "text": [
      "...\n"
     ]
    },
    {
     "data": {
      "application/vnd.jupyter.widget-view+json": {
       "model_id": "580965eb9caf403a9d085805ff7010e0",
       "version_major": 2,
       "version_minor": 0
      },
      "text/plain": [
       "  0%|          | 0/9998711 [00:00<?, ?it/s]"
      ]
     },
     "metadata": {},
     "output_type": "display_data"
    },
    {
     "data": {
      "application/vnd.jupyter.widget-view+json": {
       "model_id": "488a9eeeff7e47cfac1d65b63753d374",
       "version_major": 2,
       "version_minor": 0
      },
      "text/plain": [
       "  0%|          | 0/9998711 [00:00<?, ?it/s]"
      ]
     },
     "metadata": {},
     "output_type": "display_data"
    }
   ],
   "source": [
    "##### PREPARE INCHI FORMULAS: 1\n",
    "\n",
    "allowed_inchi['InChI_1'] = allowed_inchi['InChI'].progress_apply(lambda x: x.split('/')[1])\n",
    "print('...')\n",
    "allowed_inchi['InChI_text'] = allowed_inchi['InChI_1'].progress_apply(split_form) + ' ' + \\\n",
    "                        allowed_inchi['InChI'].apply(lambda x: '/'.join(x.split('/')[2:])).progress_apply(split_form2).values"
   ]
  },
  {
   "cell_type": "code",
   "execution_count": 7,
   "metadata": {},
   "outputs": [
    {
     "data": {
      "application/vnd.jupyter.widget-view+json": {
       "model_id": "b1e295970296439894877a7f59eb929e",
       "version_major": 2,
       "version_minor": 0
      },
      "text/plain": [
       "  0%|          | 0/2424186 [00:00<?, ?it/s]"
      ]
     },
     "metadata": {},
     "output_type": "display_data"
    },
    {
     "data": {
      "application/vnd.jupyter.widget-view+json": {
       "model_id": "19dc78e7f66e4491b94c31c1933fa367",
       "version_major": 2,
       "version_minor": 0
      },
      "text/plain": [
       "  0%|          | 0/9998711 [00:00<?, ?it/s]"
      ]
     },
     "metadata": {},
     "output_type": "display_data"
    },
    {
     "data": {
      "text/html": [
       "<div>\n",
       "<style scoped>\n",
       "    .dataframe tbody tr th:only-of-type {\n",
       "        vertical-align: middle;\n",
       "    }\n",
       "\n",
       "    .dataframe tbody tr th {\n",
       "        vertical-align: top;\n",
       "    }\n",
       "\n",
       "    .dataframe thead th {\n",
       "        text-align: right;\n",
       "    }\n",
       "</style>\n",
       "<table border=\"1\" class=\"dataframe\">\n",
       "  <thead>\n",
       "    <tr style=\"text-align: right;\">\n",
       "      <th></th>\n",
       "      <th>InChI</th>\n",
       "      <th>InChI_1</th>\n",
       "      <th>InChI_text</th>\n",
       "      <th>B</th>\n",
       "      <th>Br</th>\n",
       "      <th>C</th>\n",
       "      <th>Cl</th>\n",
       "      <th>F</th>\n",
       "      <th>H</th>\n",
       "      <th>I</th>\n",
       "      <th>N</th>\n",
       "      <th>O</th>\n",
       "      <th>P</th>\n",
       "      <th>S</th>\n",
       "      <th>Si</th>\n",
       "    </tr>\n",
       "  </thead>\n",
       "  <tbody>\n",
       "    <tr>\n",
       "      <th>0</th>\n",
       "      <td>InChI=1S/C13H10Cl4O4/c1-20-13(21-2)11(16)5-6-8...</td>\n",
       "      <td>C13H10Cl4O4</td>\n",
       "      <td>C 13 H 10 Cl 4 O 4 /c 1 - 20 - 13 ( 21 - 2 ) 1...</td>\n",
       "      <td>0</td>\n",
       "      <td>0</td>\n",
       "      <td>13</td>\n",
       "      <td>4</td>\n",
       "      <td>0</td>\n",
       "      <td>10</td>\n",
       "      <td>0</td>\n",
       "      <td>0</td>\n",
       "      <td>4</td>\n",
       "      <td>0</td>\n",
       "      <td>0</td>\n",
       "      <td>0</td>\n",
       "    </tr>\n",
       "    <tr>\n",
       "      <th>1</th>\n",
       "      <td>InChI=1S/C23H32O6Si/c1-20(2)25-15-19(27-20)22(...</td>\n",
       "      <td>C23H32O6Si</td>\n",
       "      <td>C 23 H 32 O 6 Si /c 1 - 20 ( 2 ) 25 - 15 - 19 ...</td>\n",
       "      <td>0</td>\n",
       "      <td>0</td>\n",
       "      <td>23</td>\n",
       "      <td>0</td>\n",
       "      <td>0</td>\n",
       "      <td>32</td>\n",
       "      <td>0</td>\n",
       "      <td>0</td>\n",
       "      <td>6</td>\n",
       "      <td>0</td>\n",
       "      <td>0</td>\n",
       "      <td>1</td>\n",
       "    </tr>\n",
       "    <tr>\n",
       "      <th>2</th>\n",
       "      <td>InChI=1S/C24H16N4O3/c29-21-19-20(14-8-2-1-3-9-...</td>\n",
       "      <td>C24H16N4O3</td>\n",
       "      <td>C 24 H 16 N 4 O 3 /c 29 - 21 - 19 - 20 ( 14 - ...</td>\n",
       "      <td>0</td>\n",
       "      <td>0</td>\n",
       "      <td>24</td>\n",
       "      <td>0</td>\n",
       "      <td>0</td>\n",
       "      <td>16</td>\n",
       "      <td>0</td>\n",
       "      <td>4</td>\n",
       "      <td>3</td>\n",
       "      <td>0</td>\n",
       "      <td>0</td>\n",
       "      <td>0</td>\n",
       "    </tr>\n",
       "    <tr>\n",
       "      <th>3</th>\n",
       "      <td>InChI=1S/C20H26N2O5/c1-9-14-11-7-13-19(8-21-3)...</td>\n",
       "      <td>C20H26N2O5</td>\n",
       "      <td>C 20 H 26 N 2 O 5 /c 1 - 9 - 14 - 11 - 7 - 13 ...</td>\n",
       "      <td>0</td>\n",
       "      <td>0</td>\n",
       "      <td>20</td>\n",
       "      <td>0</td>\n",
       "      <td>0</td>\n",
       "      <td>26</td>\n",
       "      <td>0</td>\n",
       "      <td>2</td>\n",
       "      <td>5</td>\n",
       "      <td>0</td>\n",
       "      <td>0</td>\n",
       "      <td>0</td>\n",
       "    </tr>\n",
       "    <tr>\n",
       "      <th>4</th>\n",
       "      <td>InChI=1S/C14H12BrN/c15-8-3-1-7(2-4-8)12-9-5-10...</td>\n",
       "      <td>C14H12BrN</td>\n",
       "      <td>C 14 H 12 Br N /c 15 - 8 - 3 - 1 - 7 ( 2 - 4 -...</td>\n",
       "      <td>0</td>\n",
       "      <td>1</td>\n",
       "      <td>14</td>\n",
       "      <td>0</td>\n",
       "      <td>0</td>\n",
       "      <td>12</td>\n",
       "      <td>0</td>\n",
       "      <td>1</td>\n",
       "      <td>0</td>\n",
       "      <td>0</td>\n",
       "      <td>0</td>\n",
       "      <td>0</td>\n",
       "    </tr>\n",
       "  </tbody>\n",
       "</table>\n",
       "</div>"
      ],
      "text/plain": [
       "                                               InChI      InChI_1  \\\n",
       "0  InChI=1S/C13H10Cl4O4/c1-20-13(21-2)11(16)5-6-8...  C13H10Cl4O4   \n",
       "1  InChI=1S/C23H32O6Si/c1-20(2)25-15-19(27-20)22(...   C23H32O6Si   \n",
       "2  InChI=1S/C24H16N4O3/c29-21-19-20(14-8-2-1-3-9-...   C24H16N4O3   \n",
       "3  InChI=1S/C20H26N2O5/c1-9-14-11-7-13-19(8-21-3)...   C20H26N2O5   \n",
       "4  InChI=1S/C14H12BrN/c15-8-3-1-7(2-4-8)12-9-5-10...    C14H12BrN   \n",
       "\n",
       "                                          InChI_text  B  Br   C  Cl  F   H  I  \\\n",
       "0  C 13 H 10 Cl 4 O 4 /c 1 - 20 - 13 ( 21 - 2 ) 1...  0   0  13   4  0  10  0   \n",
       "1  C 23 H 32 O 6 Si /c 1 - 20 ( 2 ) 25 - 15 - 19 ...  0   0  23   0  0  32  0   \n",
       "2  C 24 H 16 N 4 O 3 /c 29 - 21 - 19 - 20 ( 14 - ...  0   0  24   0  0  16  0   \n",
       "3  C 20 H 26 N 2 O 5 /c 1 - 9 - 14 - 11 - 7 - 13 ...  0   0  20   0  0  26  0   \n",
       "4  C 14 H 12 Br N /c 15 - 8 - 3 - 1 - 7 ( 2 - 4 -...  0   1  14   0  0  12  0   \n",
       "\n",
       "   N  O  P  S  Si  \n",
       "0  0  4  0  0   0  \n",
       "1  0  6  0  0   1  \n",
       "2  4  3  0  0   0  \n",
       "3  2  5  0  0   0  \n",
       "4  1  0  0  0   0  "
      ]
     },
     "execution_count": 7,
     "metadata": {},
     "output_type": "execute_result"
    }
   ],
   "source": [
    "##### PREPARE INCHI FORMULAS: 2\n",
    "\n",
    "train, allowed_inchi = get_atom_counts(train), get_atom_counts(allowed_inchi)\n",
    "allowed_inchi.head()"
   ]
  },
  {
   "cell_type": "code",
   "execution_count": 8,
   "metadata": {},
   "outputs": [
    {
     "name": "stdout",
     "output_type": "stream",
     "text": [
      "Saved tokenizer\n"
     ]
    },
    {
     "data": {
      "application/vnd.jupyter.widget-view+json": {
       "model_id": "ab977a08860f4a7eaaaff3c0aecefd96",
       "version_major": 2,
       "version_minor": 0
      },
      "text/plain": [
       "  0%|          | 0/9998711 [00:00<?, ?it/s]"
      ]
     },
     "metadata": {},
     "output_type": "display_data"
    }
   ],
   "source": [
    "##### CONVERT TO TOKENS\n",
    "\n",
    "# import tokenizer\n",
    "tokenizer = Tokenizer()\n",
    "tokenizer.fit_on_texts(allowed_inchi['InChI_text'].values)\n",
    "print('Saved tokenizer')\n",
    "\n",
    "# preprocess molecules\n",
    "lengths = []\n",
    "for text in tqdm(allowed_inchi['InChI_text'].values, total=len(allowed_inchi)):\n",
    "    seq = tokenizer.text_to_sequence(text)\n",
    "    length = len(seq) - 2\n",
    "    lengths.append(length)\n",
    "allowed_inchi['InChI_length'] = lengths\n",
    "allowed_inchi.to_pickle('allowed_inchi_processed.pkl')"
   ]
  },
  {
   "cell_type": "markdown",
   "metadata": {},
   "source": [
    "# IMAGE GENERATION"
   ]
  },
  {
   "cell_type": "code",
   "execution_count": 12,
   "metadata": {},
   "outputs": [],
   "source": [
    "##### HELPER FUNCTIONS\n",
    "\n",
    "def sp_noise(image):\n",
    "    #https://gist.github.com/lucaswiman/1e877a164a69f78694f845eab45c381a\n",
    "    output = image.copy()\n",
    "    if len(image.shape) == 2:\n",
    "        black = 0\n",
    "        white = 255            \n",
    "    else:\n",
    "        colorspace = image.shape[2]\n",
    "        if colorspace == 3:  # RGB\n",
    "            black = np.array([0, 0, 0], dtype='uint8')\n",
    "            white = np.array([255, 255, 255], dtype='uint8')\n",
    "        else:  # RGBA\n",
    "            black = np.array([0, 0, 0, 255], dtype='uint8')\n",
    "            white = np.array([255, 255, 255, 255], dtype='uint8')\n",
    "    probs = np.random.random(image.shape[:2])\n",
    "    image[probs < .00015] = black\n",
    "    image[probs > .85] = white\n",
    "    return image\n",
    "\n",
    "def noisy_inchi(inchi, inchi_path, add_noise=True, crop_and_pad=True):\n",
    "    \n",
    "    mol = Chem.MolFromInchi(inchi)\n",
    "    d   = Chem.Draw.rdMolDraw2D.MolDraw2DCairo(300, 300)\n",
    "    \n",
    "    # https://www.kaggle.com/stainsby/improved-synthetic-data-for-bms-competition-v3\n",
    "    Chem.rdDepictor.SetPreferCoordGen(True)\n",
    "    d.drawOptions().maxFontSize=14\n",
    "    d.drawOptions().multipleBondOffset=np.random.uniform(0.05, 0.2)\n",
    "    d.drawOptions().useBWAtomPalette()\n",
    "    d.drawOptions().bondLineWidth=1\n",
    "    d.drawOptions().additionalAtomLabelPadding=np.random.uniform(0, .2)\n",
    "    d.DrawMolecule(mol)\n",
    "    d.FinishDrawing()\n",
    "    d.WriteDrawingText(inchi_path) \n",
    "    \n",
    "    if crop_and_pad:\n",
    "        img = cv2.imread(inchi_path, cv2.IMREAD_GRAYSCALE)\n",
    "        crop_rows = img[~np.all(img==255, axis=1), :]\n",
    "        img = crop_rows[:, ~np.all(crop_rows==255, axis=0)]\n",
    "        img = cv2.copyMakeBorder(img, 30, 30, 30, 30, cv2.BORDER_CONSTANT, value=255)\n",
    "        img = cv2.cvtColor(img, cv2.COLOR_GRAY2RGB)\n",
    "    else:\n",
    "        img = cv2.imread(inchi_path)\n",
    "    if add_noise:\n",
    "        img = sp_noise(img)\n",
    "        cv2.imwrite(inchi_path, img)\n",
    "    return img"
   ]
  },
  {
   "cell_type": "code",
   "execution_count": 13,
   "metadata": {},
   "outputs": [],
   "source": [
    "##### DATASET\n",
    "\n",
    "class ExternalDataset(Dataset):\n",
    "    def __init__(self, df, tokenizer, transform=None):\n",
    "        super().__init__()\n",
    "        self.df        = df\n",
    "        self.tokenizer = tokenizer\n",
    "        self.labels    = df['InChI_text'].values\n",
    "        self.inchis    = df['InChI'].values\n",
    "        self.transform = transform\n",
    "    \n",
    "    def __len__(self):\n",
    "        return len(self.df)\n",
    "    \n",
    "    def __getitem__(self, idx):\n",
    "        inchi = self.inchis[idx]\n",
    "        image = noisy_inchi(inchi, inchi_path = f'{OUTPUT_DIR}/extra_{idx}.png')\n",
    "        if self.transform:\n",
    "            augmented = self.transform(image=image)\n",
    "            image = augmented['image']\n",
    "        label = self.labels[idx]\n",
    "        label = self.tokenizer.text_to_sequence(label)\n",
    "        label_length = len(label)\n",
    "        label_length = torch.LongTensor([label_length])\n",
    "        return image, torch.LongTensor(label), label_length"
   ]
  },
  {
   "cell_type": "code",
   "execution_count": null,
   "metadata": {},
   "outputs": [
    {
     "data": {
      "application/vnd.jupyter.widget-view+json": {
       "model_id": "ce9e680e1f4844cba2aadb03a5072b55",
       "version_major": 2,
       "version_minor": 0
      },
      "text/plain": [
       "  0%|          | 0/400000 [00:00<?, ?it/s]"
      ]
     },
     "metadata": {},
     "output_type": "display_data"
    }
   ],
   "source": [
    "##### GENERATE IMAGES\n",
    "\n",
    "# preparations\n",
    "allowed_inchi = allowed_inchi.sample(frac = 1).reset_index(drop =True)\n",
    "ext_dataset = ExternalDataset(allowed_inchi, \n",
    "                              tokenizer, \n",
    "                              transform = None)\n",
    "\n",
    "#  generation\n",
    "for i in tqdm(range(3300000)):\n",
    "    image, label, label_length = ext_dataset[i]"
   ]
  },
  {
   "source": [
    "# EXPORT DATAFRAME"
   ],
   "cell_type": "markdown",
   "metadata": {}
  },
  {
   "cell_type": "code",
   "execution_count": 3,
   "metadata": {
    "tags": []
   },
   "outputs": [
    {
     "name": "stdout",
     "output_type": "stream",
     "text": [
      "100000\n",
      "200000\n",
      "300000\n",
      "400000\n",
      "500000\n",
      "600000\n",
      "700000\n",
      "800000\n",
      "900000\n",
      "1000000\n",
      "1100000\n",
      "1200000\n",
      "1300000\n",
      "1400000\n",
      "1500000\n",
      "1600000\n",
      "1700000\n",
      "1800000\n",
      "1900000\n",
      "2000000\n",
      "2100000\n",
      "2200000\n",
      "2300000\n",
      "2400000\n",
      "2500000\n",
      "2600000\n",
      "2700000\n",
      "2800000\n",
      "2900000\n",
      "3000000\n",
      "3100000\n",
      "3200000\n",
      "3300000\n"
     ]
    },
    {
     "data": {
      "text/plain": [
       "['extra_483305.png',\n",
       " 'extra_6195283.png',\n",
       " 'extra_1121621.png',\n",
       " 'extra_8090257.png',\n",
       " 'extra_7204345.png',\n",
       " 'extra_1079112.png',\n",
       " 'extra_6157352.png',\n",
       " 'extra_5234218.png',\n",
       " 'extra_8052386.png',\n",
       " 'extra_317069.png']"
      ]
     },
     "execution_count": 3,
     "metadata": {},
     "output_type": "execute_result"
    }
   ],
   "source": [
    "##### GET LIST OF IMAGE IDS\n",
    "\n",
    "imgs = []\n",
    "i    = 0\n",
    "\n",
    "for file in os.scandir(OUTPUT_DIR):    \n",
    "    i += 1\n",
    "    imgs.append(file.name)\n",
    "    if i % 100000 == 0:\n",
    "        print(i)\n",
    "            \n",
    "imgs[0:10]"
   ]
  },
  {
   "cell_type": "code",
   "execution_count": null,
   "metadata": {},
   "outputs": [],
   "source": [
    "##### PREPARE IDS\n",
    "\n",
    "ids = [int(img.replace('extra_', '').replace('.png', '')) for img in imgs]\n",
    "imgs = ['extra/' + img for img in imgs]"
   ]
  },
  {
   "cell_type": "code",
   "execution_count": 8,
   "metadata": {},
   "outputs": [
    {
     "data": {
      "text/html": [
       "<div>\n",
       "<style scoped>\n",
       "    .dataframe tbody tr th:only-of-type {\n",
       "        vertical-align: middle;\n",
       "    }\n",
       "\n",
       "    .dataframe tbody tr th {\n",
       "        vertical-align: top;\n",
       "    }\n",
       "\n",
       "    .dataframe thead th {\n",
       "        text-align: right;\n",
       "    }\n",
       "</style>\n",
       "<table border=\"1\" class=\"dataframe\">\n",
       "  <thead>\n",
       "    <tr style=\"text-align: right;\">\n",
       "      <th></th>\n",
       "      <th>InChI</th>\n",
       "      <th>file_path</th>\n",
       "      <th>image_id</th>\n",
       "    </tr>\n",
       "  </thead>\n",
       "  <tbody>\n",
       "    <tr>\n",
       "      <th>0</th>\n",
       "      <td>InChI=1S/C14H20N4/c15-9-8-11-5-3-4-10-18(11)14...</td>\n",
       "      <td>extra/extra/extra_483305.png</td>\n",
       "      <td>483305</td>\n",
       "    </tr>\n",
       "    <tr>\n",
       "      <th>1</th>\n",
       "      <td>InChI=1S/C12H11BrFNO2S/c13-11-9(2-1-3-10(11)14...</td>\n",
       "      <td>extra/extra/extra_6195283.png</td>\n",
       "      <td>6195283</td>\n",
       "    </tr>\n",
       "    <tr>\n",
       "      <th>2</th>\n",
       "      <td>InChI=1S/C27H32N2O3/c1-4-5-17-28-27(31)21(3)29...</td>\n",
       "      <td>extra/extra/extra_1121621.png</td>\n",
       "      <td>1121621</td>\n",
       "    </tr>\n",
       "    <tr>\n",
       "      <th>3</th>\n",
       "      <td>InChI=1S/C14H18N6S/c15-13(16)11-8-10(5-6-17-11...</td>\n",
       "      <td>extra/extra/extra_8090257.png</td>\n",
       "      <td>8090257</td>\n",
       "    </tr>\n",
       "    <tr>\n",
       "      <th>4</th>\n",
       "      <td>InChI=1S/C13H11ClN6O/c1-9-12(6-17-19-7-15-16-8...</td>\n",
       "      <td>extra/extra/extra_7204345.png</td>\n",
       "      <td>7204345</td>\n",
       "    </tr>\n",
       "  </tbody>\n",
       "</table>\n",
       "</div>"
      ],
      "text/plain": [
       "                                               InChI  \\\n",
       "0  InChI=1S/C14H20N4/c15-9-8-11-5-3-4-10-18(11)14...   \n",
       "1  InChI=1S/C12H11BrFNO2S/c13-11-9(2-1-3-10(11)14...   \n",
       "2  InChI=1S/C27H32N2O3/c1-4-5-17-28-27(31)21(3)29...   \n",
       "3  InChI=1S/C14H18N6S/c15-13(16)11-8-10(5-6-17-11...   \n",
       "4  InChI=1S/C13H11ClN6O/c1-9-12(6-17-19-7-15-16-8...   \n",
       "\n",
       "                       file_path  image_id  \n",
       "0   extra/extra/extra_483305.png    483305  \n",
       "1  extra/extra/extra_6195283.png   6195283  \n",
       "2  extra/extra/extra_1121621.png   1121621  \n",
       "3  extra/extra/extra_8090257.png   8090257  \n",
       "4  extra/extra/extra_7204345.png   7204345  "
      ]
     },
     "execution_count": 8,
     "metadata": {},
     "output_type": "execute_result"
    }
   ],
   "source": [
    "##### CONSTRUCT TABLE\n",
    "\n",
    "df_extra = pd.read_csv('../input/ extra_approved_InChIs.csv')\n",
    "df_extra = df_extra.iloc[ids].reset_index(drop = True)\n",
    "df_extra['file_path'] = imgs\n",
    "df_extra['image_id']  = ids\n",
    "df_extra.head()"
   ]
  },
  {
   "cell_type": "code",
   "execution_count": 34,
   "metadata": {},
   "outputs": [
    {
     "data": {
      "text/plain": [
       "<matplotlib.image.AxesImage at 0x7f8d02121ee0>"
      ]
     },
     "execution_count": 34,
     "metadata": {},
     "output_type": "execute_result"
    },
    {
     "data": {
      "image/png": "[encoded data removed]",
      "text/plain": [
       "<Figure size 432x288 with 1 Axes>"
      ]
     },
     "metadata": {
      "needs_background": "light"
     },
     "output_type": "display_data"
    }
   ],
   "source": [
    "##### CHECK SAMPLE IMAGE\n",
    "\n",
    "image = cv2.imread('../input/' + df_extra['file_path'][1], cv2.IMREAD_GRAYSCALE) \n",
    "plt.imshow(image, cmap = 'gray')"
   ]
  },
  {
   "cell_type": "code",
   "execution_count": 25,
   "metadata": {},
   "outputs": [
    {
     "data": {
      "text/html": [
       "<div>\n",
       "<style scoped>\n",
       "    .dataframe tbody tr th:only-of-type {\n",
       "        vertical-align: middle;\n",
       "    }\n",
       "\n",
       "    .dataframe tbody tr th {\n",
       "        vertical-align: top;\n",
       "    }\n",
       "\n",
       "    .dataframe thead th {\n",
       "        text-align: right;\n",
       "    }\n",
       "</style>\n",
       "<table border=\"1\" class=\"dataframe\">\n",
       "  <thead>\n",
       "    <tr style=\"text-align: right;\">\n",
       "      <th></th>\n",
       "      <th>InChI</th>\n",
       "      <th>file_path</th>\n",
       "      <th>length</th>\n",
       "    </tr>\n",
       "  </thead>\n",
       "  <tbody>\n",
       "    <tr>\n",
       "      <th>0</th>\n",
       "      <td>InChI=1S/CCl5OP/c2-1(3,4)8(5,6)7</td>\n",
       "      <td>extra/extra/extra_6229980.png</td>\n",
       "      <td>32</td>\n",
       "    </tr>\n",
       "    <tr>\n",
       "      <th>1</th>\n",
       "      <td>InChI=1S/CCl4O4/c2-1(3,4)9-5(6,7)8</td>\n",
       "      <td>extra/extra/extra_9056364.png</td>\n",
       "      <td>34</td>\n",
       "    </tr>\n",
       "    <tr>\n",
       "      <th>2</th>\n",
       "      <td>InChI=1S/CF5NS2/c2-9(3,4,5,6)7-1-8</td>\n",
       "      <td>extra/extra/extra_6202746.png</td>\n",
       "      <td>34</td>\n",
       "    </tr>\n",
       "    <tr>\n",
       "      <th>3</th>\n",
       "      <td>InChI=1S/CH3NO2/c1-4-2-3/h1H3/i1D3</td>\n",
       "      <td>extra/extra/extra_1137378.png</td>\n",
       "      <td>34</td>\n",
       "    </tr>\n",
       "    <tr>\n",
       "      <th>4</th>\n",
       "      <td>InChI=1S/C4N4Si/c5-1-9(2-6,3-7)4-8</td>\n",
       "      <td>extra/extra/extra_5003698.png</td>\n",
       "      <td>34</td>\n",
       "    </tr>\n",
       "  </tbody>\n",
       "</table>\n",
       "</div>"
      ],
      "text/plain": [
       "                                InChI                      file_path  length\n",
       "0    InChI=1S/CCl5OP/c2-1(3,4)8(5,6)7  extra/extra/extra_6229980.png      32\n",
       "1  InChI=1S/CCl4O4/c2-1(3,4)9-5(6,7)8  extra/extra/extra_9056364.png      34\n",
       "2  InChI=1S/CF5NS2/c2-9(3,4,5,6)7-1-8  extra/extra/extra_6202746.png      34\n",
       "3  InChI=1S/CH3NO2/c1-4-2-3/h1H3/i1D3  extra/extra/extra_1137378.png      34\n",
       "4  InChI=1S/C4N4Si/c5-1-9(2-6,3-7)4-8  extra/extra/extra_5003698.png      34"
      ]
     },
     "execution_count": 25,
     "metadata": {},
     "output_type": "execute_result"
    }
   ],
   "source": [
    "##### SORT BY LENGTH\n",
    "\n",
    "df_extra['length'] = df_extra['InChI'].str.len()\n",
    "df_extra = df_extra.sort_values('length', ascending = True).reset_index(drop = True)\n",
    "del df_extra['image_id']"
   ]
  },
  {
   "cell_type": "code",
   "execution_count": 9,
   "metadata": {},
   "outputs": [
    {
     "data": {
      "text/plain": [
       "(3394423, 3)"
      ]
     },
     "execution_count": 9,
     "metadata": {},
     "output_type": "execute_result"
    }
   ],
   "source": [
    "##### EXPORT AS CSV\n",
    "\n",
    "df_extra.to_csv('../input/extra.csv', index = False)\n",
    "df_extra.shape"
   ]
  }
 ],
 "metadata": {
  "kernelspec": {
   "name": "python388jvsc74a57bd0310cd5f5609f69ea751e1868ad0136080dc62c502a2bbda6a0995c7a80ed57e1",
   "display_name": "Python 3.8.8 64-bit ('py3': conda)"
  },
  "language_info": {
   "codemirror_mode": {
    "name": "ipython",
    "version": 3
   },
   "file_extension": ".py",
   "mimetype": "text/x-python",
   "name": "python",
   "nbconvert_exporter": "python",
   "pygments_lexer": "ipython3",
   "version": "3.8.8"
  },
  "metadata": {
   "interpreter": {
    "hash": "310cd5f5609f69ea751e1868ad0136080dc62c502a2bbda6a0995c7a80ed57e1"
   }
  }
 },
 "nbformat": 4,
 "nbformat_minor": 4
}